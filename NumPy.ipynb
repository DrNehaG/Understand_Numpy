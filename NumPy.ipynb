{
 "cells": [
  {
   "cell_type": "markdown",
   "id": "7b52a9e2",
   "metadata": {},
   "source": [
    "# NumPy\n",
    "\n",
    "NumPy stands for Numerical Python. It is very useful library. The data structure provided by this library is arrays of any dimensions as well as matrices. Arrays are nothing but collection of homogeneous elements."
   ]
  },
  {
   "cell_type": "code",
   "execution_count": 1,
   "id": "29af9bea",
   "metadata": {},
   "outputs": [],
   "source": [
    "import numpy as np"
   ]
  },
  {
   "cell_type": "code",
   "execution_count": 3,
   "id": "f4013f89",
   "metadata": {},
   "outputs": [
    {
     "data": {
      "text/plain": [
       "array([1. , 2. , 3.4])"
      ]
     },
     "execution_count": 3,
     "metadata": {},
     "output_type": "execute_result"
    }
   ],
   "source": [
    "a = np.array([1, 2, 3.4])\n",
    "a"
   ]
  },
  {
   "cell_type": "markdown",
   "id": "8b9c0132",
   "metadata": {},
   "source": [
    "**Remark:** We've got the array of 1 dimension and it has upcasted the data type of elements of this array into float type and all the elements are of float type. Also, this array is homogeneous."
   ]
  },
  {
   "cell_type": "code",
   "execution_count": 4,
   "id": "96ff2847",
   "metadata": {},
   "outputs": [
    {
     "data": {
      "text/plain": [
       "numpy.ndarray"
      ]
     },
     "execution_count": 4,
     "metadata": {},
     "output_type": "execute_result"
    }
   ],
   "source": [
    "type(a)"
   ]
  },
  {
   "cell_type": "code",
   "execution_count": 2,
   "id": "e9bff1d2",
   "metadata": {},
   "outputs": [
    {
     "data": {
      "text/plain": [
       "array([[[[[[4, 5, 6],\n",
       "           [6, 7, 8]]]]]])"
      ]
     },
     "execution_count": 2,
     "metadata": {},
     "output_type": "execute_result"
    }
   ],
   "source": [
    "# To get array of any dimensions\n",
    "np.array([[4, 5, 6], [6, 7, 8]], ndmin = 6)"
   ]
  },
  {
   "cell_type": "code",
   "execution_count": 5,
   "id": "df917b31",
   "metadata": {},
   "outputs": [
    {
     "data": {
      "text/plain": [
       "array([[[1. , 2. , 3.4]]])"
      ]
     },
     "execution_count": 5,
     "metadata": {},
     "output_type": "execute_result"
    }
   ],
   "source": [
    "# To convert any array into higher number of dimensions\n",
    "np.array([1, 2, 3.4], ndmin = 3)"
   ]
  },
  {
   "cell_type": "code",
   "execution_count": 4,
   "id": "309672a2",
   "metadata": {},
   "outputs": [
    {
     "data": {
      "text/plain": [
       "array([[2, 3],\n",
       "       [4, 5]])"
      ]
     },
     "execution_count": 4,
     "metadata": {},
     "output_type": "execute_result"
    }
   ],
   "source": [
    "# We can have list of tuples or list of list while defining the numpy array. We'll get the same output.\n",
    "np.array([(2, 3), (4, 5)])"
   ]
  },
  {
   "cell_type": "code",
   "execution_count": 7,
   "id": "572164bf",
   "metadata": {},
   "outputs": [
    {
     "data": {
      "text/plain": [
       "array([[2, 3],\n",
       "       [4, 5]])"
      ]
     },
     "execution_count": 7,
     "metadata": {},
     "output_type": "execute_result"
    }
   ],
   "source": [
    "b = np.array([[2, 3], [4, 5]])\n",
    "b"
   ]
  },
  {
   "cell_type": "code",
   "execution_count": 8,
   "id": "55f4adaa",
   "metadata": {},
   "outputs": [
    {
     "data": {
      "text/plain": [
       "numpy.ndarray"
      ]
     },
     "execution_count": 8,
     "metadata": {},
     "output_type": "execute_result"
    }
   ],
   "source": [
    "type(b)"
   ]
  },
  {
   "cell_type": "code",
   "execution_count": 9,
   "id": "2eec0104",
   "metadata": {},
   "outputs": [
    {
     "data": {
      "text/plain": [
       "2"
      ]
     },
     "execution_count": 9,
     "metadata": {},
     "output_type": "execute_result"
    }
   ],
   "source": [
    "# To know the dimensions of the array\n",
    "b.ndim"
   ]
  },
  {
   "cell_type": "code",
   "execution_count": 12,
   "id": "e5d6ee88",
   "metadata": {},
   "outputs": [
    {
     "data": {
      "text/plain": [
       "2"
      ]
     },
     "execution_count": 12,
     "metadata": {},
     "output_type": "execute_result"
    }
   ],
   "source": [
    "# indexing in arrays\n",
    "b[0][0]"
   ]
  },
  {
   "cell_type": "code",
   "execution_count": 16,
   "id": "9d36ac45",
   "metadata": {},
   "outputs": [
    {
     "data": {
      "text/plain": [
       "array([2, 3])"
      ]
     },
     "execution_count": 16,
     "metadata": {},
     "output_type": "execute_result"
    }
   ],
   "source": [
    "b[0]"
   ]
  },
  {
   "cell_type": "code",
   "execution_count": 3,
   "id": "c9a5bfc7",
   "metadata": {},
   "outputs": [
    {
     "data": {
      "text/plain": [
       "array([8. +0.j, 9. +0.j, 4.5+0.j])"
      ]
     },
     "execution_count": 3,
     "metadata": {},
     "output_type": "execute_result"
    }
   ],
   "source": [
    "# typecasting in numpy\n",
    "np.array([8, 9, 4.5], dtype = complex)"
   ]
  },
  {
   "cell_type": "code",
   "execution_count": 15,
   "id": "3555fba6",
   "metadata": {},
   "outputs": [
    {
     "data": {
      "text/plain": [
       "array([(23, 45), (89, 32)], dtype=[('a', '<i2'), ('b', '<i4')])"
      ]
     },
     "execution_count": 15,
     "metadata": {},
     "output_type": "execute_result"
    }
   ],
   "source": [
    "# We have passed list of the tuples as the input for defining the array\n",
    "# We can define data type of elements in an array.\n",
    "# Here, it'll represent 23 & 89 by 'a' and 45 & 32 by 'b'. It'll assign data type as i2 to all the elements represented by 'a'.\n",
    "# It'll assign data type as i4 to all the elements represented by 'b'.\n",
    "# i2: int 16\n",
    "# i4: int 32\n",
    "# i8: int 64\n",
    "x = np.array([(23, 45), (89, 32)], dtype = ([('a', '<i2'), ('b', '<i4')]))\n",
    "x"
   ]
  },
  {
   "cell_type": "code",
   "execution_count": 18,
   "id": "de6f985f",
   "metadata": {},
   "outputs": [
    {
     "data": {
      "text/plain": [
       "(23, 45)"
      ]
     },
     "execution_count": 18,
     "metadata": {},
     "output_type": "execute_result"
    }
   ],
   "source": [
    "x[0]"
   ]
  },
  {
   "cell_type": "code",
   "execution_count": 19,
   "id": "08d1ad12",
   "metadata": {},
   "outputs": [
    {
     "data": {
      "text/plain": [
       "numpy.void"
      ]
     },
     "execution_count": 19,
     "metadata": {},
     "output_type": "execute_result"
    }
   ],
   "source": [
    "type(x[0])"
   ]
  },
  {
   "cell_type": "code",
   "execution_count": 20,
   "id": "04d1a1cf",
   "metadata": {},
   "outputs": [
    {
     "data": {
      "text/plain": [
       "23"
      ]
     },
     "execution_count": 20,
     "metadata": {},
     "output_type": "execute_result"
    }
   ],
   "source": [
    "x[0][0]"
   ]
  },
  {
   "cell_type": "code",
   "execution_count": 21,
   "id": "037adfd0",
   "metadata": {},
   "outputs": [
    {
     "data": {
      "text/plain": [
       "numpy.int16"
      ]
     },
     "execution_count": 21,
     "metadata": {},
     "output_type": "execute_result"
    }
   ],
   "source": [
    "type(x[0][0])"
   ]
  },
  {
   "cell_type": "code",
   "execution_count": 23,
   "id": "371b9503",
   "metadata": {},
   "outputs": [
    {
     "data": {
      "text/plain": [
       "45"
      ]
     },
     "execution_count": 23,
     "metadata": {},
     "output_type": "execute_result"
    }
   ],
   "source": [
    "x[0][1]"
   ]
  },
  {
   "cell_type": "code",
   "execution_count": 24,
   "id": "57a02f4e",
   "metadata": {},
   "outputs": [
    {
     "data": {
      "text/plain": [
       "numpy.int32"
      ]
     },
     "execution_count": 24,
     "metadata": {},
     "output_type": "execute_result"
    }
   ],
   "source": [
    "type(x[0][1])"
   ]
  },
  {
   "cell_type": "code",
   "execution_count": 26,
   "id": "291436cb",
   "metadata": {},
   "outputs": [
    {
     "data": {
      "text/plain": [
       "matrix([[23, 45],\n",
       "        [89, 32]])"
      ]
     },
     "execution_count": 26,
     "metadata": {},
     "output_type": "execute_result"
    }
   ],
   "source": [
    "y = np.mat([(23, 45), (89, 32)])\n",
    "y"
   ]
  },
  {
   "cell_type": "code",
   "execution_count": 27,
   "id": "6bf6f64d",
   "metadata": {},
   "outputs": [
    {
     "data": {
      "text/plain": [
       "numpy.matrix"
      ]
     },
     "execution_count": 27,
     "metadata": {},
     "output_type": "execute_result"
    }
   ],
   "source": [
    "type(y)"
   ]
  },
  {
   "cell_type": "markdown",
   "id": "4058ae35",
   "metadata": {},
   "source": [
    "**Remark** np.matrix is the subclass of np.array."
   ]
  },
  {
   "cell_type": "code",
   "execution_count": 33,
   "id": "8df7ae94",
   "metadata": {},
   "outputs": [
    {
     "data": {
      "text/plain": [
       "True"
      ]
     },
     "execution_count": 33,
     "metadata": {},
     "output_type": "execute_result"
    }
   ],
   "source": [
    "np.issubclass_(np.matrix, np.ndarray)"
   ]
  },
  {
   "cell_type": "code",
   "execution_count": 34,
   "id": "f441c3fd",
   "metadata": {},
   "outputs": [
    {
     "data": {
      "text/plain": [
       "True"
      ]
     },
     "execution_count": 34,
     "metadata": {},
     "output_type": "execute_result"
    }
   ],
   "source": [
    "# Another way to do the same thing\n",
    "issubclass(np.matrix, np.ndarray)"
   ]
  },
  {
   "cell_type": "code",
   "execution_count": 29,
   "id": "6f623116",
   "metadata": {},
   "outputs": [
    {
     "data": {
      "text/plain": [
       "array([[ 1,  2,  3],\n",
       "       [ 2,  3, -9],\n",
       "       [ 8,  9,  1]])"
      ]
     },
     "execution_count": 29,
     "metadata": {},
     "output_type": "execute_result"
    }
   ],
   "source": [
    "# To convert any other data structure in the form of array we can use np.asarray as well apart from np.array.\n",
    "# It is same as np.array. The difference is just only in the parameters that are available in their respective definitions.\n",
    "np.asarray([[1, 2, 3], [2, 3, -9], [8, 9, 1]])"
   ]
  },
  {
   "cell_type": "code",
   "execution_count": 31,
   "id": "0ef645ab",
   "metadata": {},
   "outputs": [
    {
     "data": {
      "text/plain": [
       "array([[ 1,  2,  3],\n",
       "       [ 2,  3, -9],\n",
       "       [ 8,  9,  1]], dtype=int8)"
      ]
     },
     "execution_count": 31,
     "metadata": {},
     "output_type": "execute_result"
    }
   ],
   "source": [
    "# We can control the data type of elements of an array by using the parameter called dtype\n",
    "np.asarray([[1, 2, 3], [2, 3, -9], [8, 9, 1]], dtype = 'int8')"
   ]
  },
  {
   "cell_type": "markdown",
   "id": "db6466a8",
   "metadata": {},
   "source": [
    "# np.asanyarray\n",
    "\n",
    "This would help in converting non array data structes into array but it'll not convert the variant of array like matrix into an array. While np.array and np.asarray both can convert the non array data structures as well as any variant of array like matrix into an array."
   ]
  },
  {
   "cell_type": "code",
   "execution_count": 35,
   "id": "cde4f330",
   "metadata": {},
   "outputs": [
    {
     "data": {
      "text/plain": [
       "[(2, 3), (6, 7), (9, 0), (-4, 2)]"
      ]
     },
     "execution_count": 35,
     "metadata": {},
     "output_type": "execute_result"
    }
   ],
   "source": [
    "m = [(2, 3), (6, 7), (9, 0), (-4, 2)]\n",
    "m"
   ]
  },
  {
   "cell_type": "code",
   "execution_count": 36,
   "id": "465d6285",
   "metadata": {},
   "outputs": [
    {
     "data": {
      "text/plain": [
       "list"
      ]
     },
     "execution_count": 36,
     "metadata": {},
     "output_type": "execute_result"
    }
   ],
   "source": [
    "type(m)"
   ]
  },
  {
   "cell_type": "code",
   "execution_count": 37,
   "id": "8fa77bd5",
   "metadata": {},
   "outputs": [
    {
     "data": {
      "text/plain": [
       "numpy.ndarray"
      ]
     },
     "execution_count": 37,
     "metadata": {},
     "output_type": "execute_result"
    }
   ],
   "source": [
    "type(np.array(m))"
   ]
  },
  {
   "cell_type": "code",
   "execution_count": 38,
   "id": "d146ca6a",
   "metadata": {},
   "outputs": [
    {
     "data": {
      "text/plain": [
       "numpy.ndarray"
      ]
     },
     "execution_count": 38,
     "metadata": {},
     "output_type": "execute_result"
    }
   ],
   "source": [
    "type(np.asarray(m))"
   ]
  },
  {
   "cell_type": "code",
   "execution_count": 39,
   "id": "f2a9aa03",
   "metadata": {},
   "outputs": [
    {
     "data": {
      "text/plain": [
       "numpy.ndarray"
      ]
     },
     "execution_count": 39,
     "metadata": {},
     "output_type": "execute_result"
    }
   ],
   "source": [
    "type(np.asanyarray(m))"
   ]
  },
  {
   "cell_type": "code",
   "execution_count": 42,
   "id": "471ac513",
   "metadata": {},
   "outputs": [],
   "source": [
    "n = np.matrix(m)"
   ]
  },
  {
   "cell_type": "code",
   "execution_count": 43,
   "id": "56a3a20d",
   "metadata": {},
   "outputs": [
    {
     "data": {
      "text/plain": [
       "numpy.matrix"
      ]
     },
     "execution_count": 43,
     "metadata": {},
     "output_type": "execute_result"
    }
   ],
   "source": [
    "type(n)"
   ]
  },
  {
   "cell_type": "code",
   "execution_count": 45,
   "id": "eaa6e0ab",
   "metadata": {},
   "outputs": [
    {
     "data": {
      "text/plain": [
       "numpy.matrix"
      ]
     },
     "execution_count": 45,
     "metadata": {},
     "output_type": "execute_result"
    }
   ],
   "source": [
    "type(np.asanyarray(n))"
   ]
  },
  {
   "cell_type": "markdown",
   "id": "28695709",
   "metadata": {},
   "source": [
    "**Remark:** np.array, np.asarray, and np.asanyarray all will help in converting any data structure into array but np.asanyarray wouldn't convert matrix into an array."
   ]
  },
  {
   "cell_type": "markdown",
   "id": "c1321f9d",
   "metadata": {},
   "source": [
    "**deep copy:** If we are defining a variable let's say x and defining the expression y = np.copy(x) then this is known as creating a deep copy of the variable x. In this case, both x and y would point towards different locations and whatever changes we'll make in either x or y those would not be reflected in other variable. That means if we'll make any changes in x then Y would not change and vice versa.\n",
    "\n",
    "**Shallow copy:** If we are defining a variable let's say x and defining the expression y = x then this is known as creating a shallow copy of the variable x. In this case, both x and y would point towards same location and whatever changes we'll make in either x or y those would be reflected in both y & x."
   ]
  },
  {
   "cell_type": "markdown",
   "id": "7fd34cdc",
   "metadata": {},
   "source": [
    "# np.fromfunction()\n",
    "\n",
    "It tries to calculate all the elements of an array with the help of execution of function over each coordinate."
   ]
  },
  {
   "cell_type": "code",
   "execution_count": 49,
   "id": "65347574",
   "metadata": {},
   "outputs": [
    {
     "data": {
      "text/plain": [
       "array([[ True, False, False],\n",
       "       [False, False, False]])"
      ]
     },
     "execution_count": 49,
     "metadata": {},
     "output_type": "execute_result"
    }
   ],
   "source": [
    "np.fromfunction(lambda x, y: x == y* 3, (2, 3))"
   ]
  },
  {
   "cell_type": "code",
   "execution_count": 52,
   "id": "65eae1f2",
   "metadata": {},
   "outputs": [
    {
     "data": {
      "text/plain": [
       "array([[1, 0, 0],\n",
       "       [1, 1, 1],\n",
       "       [1, 2, 4]], dtype=int32)"
      ]
     },
     "execution_count": 52,
     "metadata": {},
     "output_type": "execute_result"
    }
   ],
   "source": [
    "np.fromfunction(lambda i, j: i ** j, (3, 3), dtype=int)"
   ]
  },
  {
   "cell_type": "code",
   "execution_count": 54,
   "id": "3394320e",
   "metadata": {},
   "outputs": [
    {
     "data": {
      "text/plain": [
       "array([[[0, 1, 2],\n",
       "        [1, 2, 3],\n",
       "        [2, 3, 4]],\n",
       "\n",
       "       [[1, 2, 3],\n",
       "        [2, 3, 4],\n",
       "        [3, 4, 5]],\n",
       "\n",
       "       [[2, 3, 4],\n",
       "        [3, 4, 5],\n",
       "        [4, 5, 6]]])"
      ]
     },
     "execution_count": 54,
     "metadata": {},
     "output_type": "execute_result"
    }
   ],
   "source": [
    "l1 = np.fromfunction(lambda i, j, k: i + j + k, (3, 3, 3), dtype = int)\n",
    "l1"
   ]
  },
  {
   "cell_type": "code",
   "execution_count": 59,
   "id": "d9a7a928",
   "metadata": {},
   "outputs": [
    {
     "data": {
      "text/plain": [
       "3"
      ]
     },
     "execution_count": 59,
     "metadata": {},
     "output_type": "execute_result"
    }
   ],
   "source": [
    "np.ndim(l1)"
   ]
  },
  {
   "cell_type": "code",
   "execution_count": 61,
   "id": "7ea1fefc",
   "metadata": {},
   "outputs": [
    {
     "data": {
      "text/plain": [
       "array([[[[0, 1, 2],\n",
       "         [1, 2, 3],\n",
       "         [2, 3, 4]],\n",
       "\n",
       "        [[1, 2, 3],\n",
       "         [2, 3, 4],\n",
       "         [3, 4, 5]],\n",
       "\n",
       "        [[2, 3, 4],\n",
       "         [3, 4, 5],\n",
       "         [4, 5, 6]]],\n",
       "\n",
       "\n",
       "       [[[1, 2, 3],\n",
       "         [2, 3, 4],\n",
       "         [3, 4, 5]],\n",
       "\n",
       "        [[2, 3, 4],\n",
       "         [3, 4, 5],\n",
       "         [4, 5, 6]],\n",
       "\n",
       "        [[3, 4, 5],\n",
       "         [4, 5, 6],\n",
       "         [5, 6, 7]]]])"
      ]
     },
     "execution_count": 61,
     "metadata": {},
     "output_type": "execute_result"
    }
   ],
   "source": [
    "l2 = np.fromfunction(lambda i, j, k, l: i + j + k + l, (2, 3, 3, 3), dtype = int)\n",
    "l2"
   ]
  },
  {
   "cell_type": "code",
   "execution_count": 62,
   "id": "92956f94",
   "metadata": {},
   "outputs": [
    {
     "data": {
      "text/plain": [
       "4"
      ]
     },
     "execution_count": 62,
     "metadata": {},
     "output_type": "execute_result"
    }
   ],
   "source": [
    "np.ndim(l2)"
   ]
  },
  {
   "cell_type": "code",
   "execution_count": 63,
   "id": "fb9c0cfe",
   "metadata": {},
   "outputs": [
    {
     "data": {
      "text/plain": [
       "array([[[[[0, 1, 2],\n",
       "          [1, 2, 3],\n",
       "          [2, 3, 4]],\n",
       "\n",
       "         [[1, 2, 3],\n",
       "          [2, 3, 4],\n",
       "          [3, 4, 5]],\n",
       "\n",
       "         [[2, 3, 4],\n",
       "          [3, 4, 5],\n",
       "          [4, 5, 6]]],\n",
       "\n",
       "\n",
       "        [[[1, 2, 3],\n",
       "          [2, 3, 4],\n",
       "          [3, 4, 5]],\n",
       "\n",
       "         [[2, 3, 4],\n",
       "          [3, 4, 5],\n",
       "          [4, 5, 6]],\n",
       "\n",
       "         [[3, 4, 5],\n",
       "          [4, 5, 6],\n",
       "          [5, 6, 7]]],\n",
       "\n",
       "\n",
       "        [[[2, 3, 4],\n",
       "          [3, 4, 5],\n",
       "          [4, 5, 6]],\n",
       "\n",
       "         [[3, 4, 5],\n",
       "          [4, 5, 6],\n",
       "          [5, 6, 7]],\n",
       "\n",
       "         [[4, 5, 6],\n",
       "          [5, 6, 7],\n",
       "          [6, 7, 8]]]],\n",
       "\n",
       "\n",
       "\n",
       "       [[[[1, 2, 3],\n",
       "          [2, 3, 4],\n",
       "          [3, 4, 5]],\n",
       "\n",
       "         [[2, 3, 4],\n",
       "          [3, 4, 5],\n",
       "          [4, 5, 6]],\n",
       "\n",
       "         [[3, 4, 5],\n",
       "          [4, 5, 6],\n",
       "          [5, 6, 7]]],\n",
       "\n",
       "\n",
       "        [[[2, 3, 4],\n",
       "          [3, 4, 5],\n",
       "          [4, 5, 6]],\n",
       "\n",
       "         [[3, 4, 5],\n",
       "          [4, 5, 6],\n",
       "          [5, 6, 7]],\n",
       "\n",
       "         [[4, 5, 6],\n",
       "          [5, 6, 7],\n",
       "          [6, 7, 8]]],\n",
       "\n",
       "\n",
       "        [[[3, 4, 5],\n",
       "          [4, 5, 6],\n",
       "          [5, 6, 7]],\n",
       "\n",
       "         [[4, 5, 6],\n",
       "          [5, 6, 7],\n",
       "          [6, 7, 8]],\n",
       "\n",
       "         [[5, 6, 7],\n",
       "          [6, 7, 8],\n",
       "          [7, 8, 9]]]]])"
      ]
     },
     "execution_count": 63,
     "metadata": {},
     "output_type": "execute_result"
    }
   ],
   "source": [
    "l3 = np.fromfunction(lambda i, j, k, l, m: i + j + k + l + m, (2, 3, 3, 3, 3), dtype = int)\n",
    "l3"
   ]
  },
  {
   "cell_type": "code",
   "execution_count": 64,
   "id": "a1091cdc",
   "metadata": {},
   "outputs": [
    {
     "data": {
      "text/plain": [
       "5"
      ]
     },
     "execution_count": 64,
     "metadata": {},
     "output_type": "execute_result"
    }
   ],
   "source": [
    "np.ndim(l3)"
   ]
  },
  {
   "cell_type": "code",
   "execution_count": 65,
   "id": "100bfcf6",
   "metadata": {},
   "outputs": [
    {
     "data": {
      "text/plain": [
       "array([[[[[[ 0,  1],\n",
       "           [ 1,  2],\n",
       "           [ 2,  3]],\n",
       "\n",
       "          [[ 1,  2],\n",
       "           [ 2,  3],\n",
       "           [ 3,  4]],\n",
       "\n",
       "          [[ 2,  3],\n",
       "           [ 3,  4],\n",
       "           [ 4,  5]],\n",
       "\n",
       "          [[ 3,  4],\n",
       "           [ 4,  5],\n",
       "           [ 5,  6]]],\n",
       "\n",
       "\n",
       "         [[[ 1,  2],\n",
       "           [ 2,  3],\n",
       "           [ 3,  4]],\n",
       "\n",
       "          [[ 2,  3],\n",
       "           [ 3,  4],\n",
       "           [ 4,  5]],\n",
       "\n",
       "          [[ 3,  4],\n",
       "           [ 4,  5],\n",
       "           [ 5,  6]],\n",
       "\n",
       "          [[ 4,  5],\n",
       "           [ 5,  6],\n",
       "           [ 6,  7]]],\n",
       "\n",
       "\n",
       "         [[[ 2,  3],\n",
       "           [ 3,  4],\n",
       "           [ 4,  5]],\n",
       "\n",
       "          [[ 3,  4],\n",
       "           [ 4,  5],\n",
       "           [ 5,  6]],\n",
       "\n",
       "          [[ 4,  5],\n",
       "           [ 5,  6],\n",
       "           [ 6,  7]],\n",
       "\n",
       "          [[ 5,  6],\n",
       "           [ 6,  7],\n",
       "           [ 7,  8]]],\n",
       "\n",
       "\n",
       "         [[[ 3,  4],\n",
       "           [ 4,  5],\n",
       "           [ 5,  6]],\n",
       "\n",
       "          [[ 4,  5],\n",
       "           [ 5,  6],\n",
       "           [ 6,  7]],\n",
       "\n",
       "          [[ 5,  6],\n",
       "           [ 6,  7],\n",
       "           [ 7,  8]],\n",
       "\n",
       "          [[ 6,  7],\n",
       "           [ 7,  8],\n",
       "           [ 8,  9]]],\n",
       "\n",
       "\n",
       "         [[[ 4,  5],\n",
       "           [ 5,  6],\n",
       "           [ 6,  7]],\n",
       "\n",
       "          [[ 5,  6],\n",
       "           [ 6,  7],\n",
       "           [ 7,  8]],\n",
       "\n",
       "          [[ 6,  7],\n",
       "           [ 7,  8],\n",
       "           [ 8,  9]],\n",
       "\n",
       "          [[ 7,  8],\n",
       "           [ 8,  9],\n",
       "           [ 9, 10]]]],\n",
       "\n",
       "\n",
       "\n",
       "        [[[[ 1,  2],\n",
       "           [ 2,  3],\n",
       "           [ 3,  4]],\n",
       "\n",
       "          [[ 2,  3],\n",
       "           [ 3,  4],\n",
       "           [ 4,  5]],\n",
       "\n",
       "          [[ 3,  4],\n",
       "           [ 4,  5],\n",
       "           [ 5,  6]],\n",
       "\n",
       "          [[ 4,  5],\n",
       "           [ 5,  6],\n",
       "           [ 6,  7]]],\n",
       "\n",
       "\n",
       "         [[[ 2,  3],\n",
       "           [ 3,  4],\n",
       "           [ 4,  5]],\n",
       "\n",
       "          [[ 3,  4],\n",
       "           [ 4,  5],\n",
       "           [ 5,  6]],\n",
       "\n",
       "          [[ 4,  5],\n",
       "           [ 5,  6],\n",
       "           [ 6,  7]],\n",
       "\n",
       "          [[ 5,  6],\n",
       "           [ 6,  7],\n",
       "           [ 7,  8]]],\n",
       "\n",
       "\n",
       "         [[[ 3,  4],\n",
       "           [ 4,  5],\n",
       "           [ 5,  6]],\n",
       "\n",
       "          [[ 4,  5],\n",
       "           [ 5,  6],\n",
       "           [ 6,  7]],\n",
       "\n",
       "          [[ 5,  6],\n",
       "           [ 6,  7],\n",
       "           [ 7,  8]],\n",
       "\n",
       "          [[ 6,  7],\n",
       "           [ 7,  8],\n",
       "           [ 8,  9]]],\n",
       "\n",
       "\n",
       "         [[[ 4,  5],\n",
       "           [ 5,  6],\n",
       "           [ 6,  7]],\n",
       "\n",
       "          [[ 5,  6],\n",
       "           [ 6,  7],\n",
       "           [ 7,  8]],\n",
       "\n",
       "          [[ 6,  7],\n",
       "           [ 7,  8],\n",
       "           [ 8,  9]],\n",
       "\n",
       "          [[ 7,  8],\n",
       "           [ 8,  9],\n",
       "           [ 9, 10]]],\n",
       "\n",
       "\n",
       "         [[[ 5,  6],\n",
       "           [ 6,  7],\n",
       "           [ 7,  8]],\n",
       "\n",
       "          [[ 6,  7],\n",
       "           [ 7,  8],\n",
       "           [ 8,  9]],\n",
       "\n",
       "          [[ 7,  8],\n",
       "           [ 8,  9],\n",
       "           [ 9, 10]],\n",
       "\n",
       "          [[ 8,  9],\n",
       "           [ 9, 10],\n",
       "           [10, 11]]]],\n",
       "\n",
       "\n",
       "\n",
       "        [[[[ 2,  3],\n",
       "           [ 3,  4],\n",
       "           [ 4,  5]],\n",
       "\n",
       "          [[ 3,  4],\n",
       "           [ 4,  5],\n",
       "           [ 5,  6]],\n",
       "\n",
       "          [[ 4,  5],\n",
       "           [ 5,  6],\n",
       "           [ 6,  7]],\n",
       "\n",
       "          [[ 5,  6],\n",
       "           [ 6,  7],\n",
       "           [ 7,  8]]],\n",
       "\n",
       "\n",
       "         [[[ 3,  4],\n",
       "           [ 4,  5],\n",
       "           [ 5,  6]],\n",
       "\n",
       "          [[ 4,  5],\n",
       "           [ 5,  6],\n",
       "           [ 6,  7]],\n",
       "\n",
       "          [[ 5,  6],\n",
       "           [ 6,  7],\n",
       "           [ 7,  8]],\n",
       "\n",
       "          [[ 6,  7],\n",
       "           [ 7,  8],\n",
       "           [ 8,  9]]],\n",
       "\n",
       "\n",
       "         [[[ 4,  5],\n",
       "           [ 5,  6],\n",
       "           [ 6,  7]],\n",
       "\n",
       "          [[ 5,  6],\n",
       "           [ 6,  7],\n",
       "           [ 7,  8]],\n",
       "\n",
       "          [[ 6,  7],\n",
       "           [ 7,  8],\n",
       "           [ 8,  9]],\n",
       "\n",
       "          [[ 7,  8],\n",
       "           [ 8,  9],\n",
       "           [ 9, 10]]],\n",
       "\n",
       "\n",
       "         [[[ 5,  6],\n",
       "           [ 6,  7],\n",
       "           [ 7,  8]],\n",
       "\n",
       "          [[ 6,  7],\n",
       "           [ 7,  8],\n",
       "           [ 8,  9]],\n",
       "\n",
       "          [[ 7,  8],\n",
       "           [ 8,  9],\n",
       "           [ 9, 10]],\n",
       "\n",
       "          [[ 8,  9],\n",
       "           [ 9, 10],\n",
       "           [10, 11]]],\n",
       "\n",
       "\n",
       "         [[[ 6,  7],\n",
       "           [ 7,  8],\n",
       "           [ 8,  9]],\n",
       "\n",
       "          [[ 7,  8],\n",
       "           [ 8,  9],\n",
       "           [ 9, 10]],\n",
       "\n",
       "          [[ 8,  9],\n",
       "           [ 9, 10],\n",
       "           [10, 11]],\n",
       "\n",
       "          [[ 9, 10],\n",
       "           [10, 11],\n",
       "           [11, 12]]]],\n",
       "\n",
       "\n",
       "\n",
       "        [[[[ 3,  4],\n",
       "           [ 4,  5],\n",
       "           [ 5,  6]],\n",
       "\n",
       "          [[ 4,  5],\n",
       "           [ 5,  6],\n",
       "           [ 6,  7]],\n",
       "\n",
       "          [[ 5,  6],\n",
       "           [ 6,  7],\n",
       "           [ 7,  8]],\n",
       "\n",
       "          [[ 6,  7],\n",
       "           [ 7,  8],\n",
       "           [ 8,  9]]],\n",
       "\n",
       "\n",
       "         [[[ 4,  5],\n",
       "           [ 5,  6],\n",
       "           [ 6,  7]],\n",
       "\n",
       "          [[ 5,  6],\n",
       "           [ 6,  7],\n",
       "           [ 7,  8]],\n",
       "\n",
       "          [[ 6,  7],\n",
       "           [ 7,  8],\n",
       "           [ 8,  9]],\n",
       "\n",
       "          [[ 7,  8],\n",
       "           [ 8,  9],\n",
       "           [ 9, 10]]],\n",
       "\n",
       "\n",
       "         [[[ 5,  6],\n",
       "           [ 6,  7],\n",
       "           [ 7,  8]],\n",
       "\n",
       "          [[ 6,  7],\n",
       "           [ 7,  8],\n",
       "           [ 8,  9]],\n",
       "\n",
       "          [[ 7,  8],\n",
       "           [ 8,  9],\n",
       "           [ 9, 10]],\n",
       "\n",
       "          [[ 8,  9],\n",
       "           [ 9, 10],\n",
       "           [10, 11]]],\n",
       "\n",
       "\n",
       "         [[[ 6,  7],\n",
       "           [ 7,  8],\n",
       "           [ 8,  9]],\n",
       "\n",
       "          [[ 7,  8],\n",
       "           [ 8,  9],\n",
       "           [ 9, 10]],\n",
       "\n",
       "          [[ 8,  9],\n",
       "           [ 9, 10],\n",
       "           [10, 11]],\n",
       "\n",
       "          [[ 9, 10],\n",
       "           [10, 11],\n",
       "           [11, 12]]],\n",
       "\n",
       "\n",
       "         [[[ 7,  8],\n",
       "           [ 8,  9],\n",
       "           [ 9, 10]],\n",
       "\n",
       "          [[ 8,  9],\n",
       "           [ 9, 10],\n",
       "           [10, 11]],\n",
       "\n",
       "          [[ 9, 10],\n",
       "           [10, 11],\n",
       "           [11, 12]],\n",
       "\n",
       "          [[10, 11],\n",
       "           [11, 12],\n",
       "           [12, 13]]]],\n",
       "\n",
       "\n",
       "\n",
       "        [[[[ 4,  5],\n",
       "           [ 5,  6],\n",
       "           [ 6,  7]],\n",
       "\n",
       "          [[ 5,  6],\n",
       "           [ 6,  7],\n",
       "           [ 7,  8]],\n",
       "\n",
       "          [[ 6,  7],\n",
       "           [ 7,  8],\n",
       "           [ 8,  9]],\n",
       "\n",
       "          [[ 7,  8],\n",
       "           [ 8,  9],\n",
       "           [ 9, 10]]],\n",
       "\n",
       "\n",
       "         [[[ 5,  6],\n",
       "           [ 6,  7],\n",
       "           [ 7,  8]],\n",
       "\n",
       "          [[ 6,  7],\n",
       "           [ 7,  8],\n",
       "           [ 8,  9]],\n",
       "\n",
       "          [[ 7,  8],\n",
       "           [ 8,  9],\n",
       "           [ 9, 10]],\n",
       "\n",
       "          [[ 8,  9],\n",
       "           [ 9, 10],\n",
       "           [10, 11]]],\n",
       "\n",
       "\n",
       "         [[[ 6,  7],\n",
       "           [ 7,  8],\n",
       "           [ 8,  9]],\n",
       "\n",
       "          [[ 7,  8],\n",
       "           [ 8,  9],\n",
       "           [ 9, 10]],\n",
       "\n",
       "          [[ 8,  9],\n",
       "           [ 9, 10],\n",
       "           [10, 11]],\n",
       "\n",
       "          [[ 9, 10],\n",
       "           [10, 11],\n",
       "           [11, 12]]],\n",
       "\n",
       "\n",
       "         [[[ 7,  8],\n",
       "           [ 8,  9],\n",
       "           [ 9, 10]],\n",
       "\n",
       "          [[ 8,  9],\n",
       "           [ 9, 10],\n",
       "           [10, 11]],\n",
       "\n",
       "          [[ 9, 10],\n",
       "           [10, 11],\n",
       "           [11, 12]],\n",
       "\n",
       "          [[10, 11],\n",
       "           [11, 12],\n",
       "           [12, 13]]],\n",
       "\n",
       "\n",
       "         [[[ 8,  9],\n",
       "           [ 9, 10],\n",
       "           [10, 11]],\n",
       "\n",
       "          [[ 9, 10],\n",
       "           [10, 11],\n",
       "           [11, 12]],\n",
       "\n",
       "          [[10, 11],\n",
       "           [11, 12],\n",
       "           [12, 13]],\n",
       "\n",
       "          [[11, 12],\n",
       "           [12, 13],\n",
       "           [13, 14]]]],\n",
       "\n",
       "\n",
       "\n",
       "        [[[[ 5,  6],\n",
       "           [ 6,  7],\n",
       "           [ 7,  8]],\n",
       "\n",
       "          [[ 6,  7],\n",
       "           [ 7,  8],\n",
       "           [ 8,  9]],\n",
       "\n",
       "          [[ 7,  8],\n",
       "           [ 8,  9],\n",
       "           [ 9, 10]],\n",
       "\n",
       "          [[ 8,  9],\n",
       "           [ 9, 10],\n",
       "           [10, 11]]],\n",
       "\n",
       "\n",
       "         [[[ 6,  7],\n",
       "           [ 7,  8],\n",
       "           [ 8,  9]],\n",
       "\n",
       "          [[ 7,  8],\n",
       "           [ 8,  9],\n",
       "           [ 9, 10]],\n",
       "\n",
       "          [[ 8,  9],\n",
       "           [ 9, 10],\n",
       "           [10, 11]],\n",
       "\n",
       "          [[ 9, 10],\n",
       "           [10, 11],\n",
       "           [11, 12]]],\n",
       "\n",
       "\n",
       "         [[[ 7,  8],\n",
       "           [ 8,  9],\n",
       "           [ 9, 10]],\n",
       "\n",
       "          [[ 8,  9],\n",
       "           [ 9, 10],\n",
       "           [10, 11]],\n",
       "\n",
       "          [[ 9, 10],\n",
       "           [10, 11],\n",
       "           [11, 12]],\n",
       "\n",
       "          [[10, 11],\n",
       "           [11, 12],\n",
       "           [12, 13]]],\n",
       "\n",
       "\n",
       "         [[[ 8,  9],\n",
       "           [ 9, 10],\n",
       "           [10, 11]],\n",
       "\n",
       "          [[ 9, 10],\n",
       "           [10, 11],\n",
       "           [11, 12]],\n",
       "\n",
       "          [[10, 11],\n",
       "           [11, 12],\n",
       "           [12, 13]],\n",
       "\n",
       "          [[11, 12],\n",
       "           [12, 13],\n",
       "           [13, 14]]],\n",
       "\n",
       "\n",
       "         [[[ 9, 10],\n",
       "           [10, 11],\n",
       "           [11, 12]],\n",
       "\n",
       "          [[10, 11],\n",
       "           [11, 12],\n",
       "           [12, 13]],\n",
       "\n",
       "          [[11, 12],\n",
       "           [12, 13],\n",
       "           [13, 14]],\n",
       "\n",
       "          [[12, 13],\n",
       "           [13, 14],\n",
       "           [14, 15]]]]],\n",
       "\n",
       "\n",
       "\n",
       "\n",
       "       [[[[[ 1,  2],\n",
       "           [ 2,  3],\n",
       "           [ 3,  4]],\n",
       "\n",
       "          [[ 2,  3],\n",
       "           [ 3,  4],\n",
       "           [ 4,  5]],\n",
       "\n",
       "          [[ 3,  4],\n",
       "           [ 4,  5],\n",
       "           [ 5,  6]],\n",
       "\n",
       "          [[ 4,  5],\n",
       "           [ 5,  6],\n",
       "           [ 6,  7]]],\n",
       "\n",
       "\n",
       "         [[[ 2,  3],\n",
       "           [ 3,  4],\n",
       "           [ 4,  5]],\n",
       "\n",
       "          [[ 3,  4],\n",
       "           [ 4,  5],\n",
       "           [ 5,  6]],\n",
       "\n",
       "          [[ 4,  5],\n",
       "           [ 5,  6],\n",
       "           [ 6,  7]],\n",
       "\n",
       "          [[ 5,  6],\n",
       "           [ 6,  7],\n",
       "           [ 7,  8]]],\n",
       "\n",
       "\n",
       "         [[[ 3,  4],\n",
       "           [ 4,  5],\n",
       "           [ 5,  6]],\n",
       "\n",
       "          [[ 4,  5],\n",
       "           [ 5,  6],\n",
       "           [ 6,  7]],\n",
       "\n",
       "          [[ 5,  6],\n",
       "           [ 6,  7],\n",
       "           [ 7,  8]],\n",
       "\n",
       "          [[ 6,  7],\n",
       "           [ 7,  8],\n",
       "           [ 8,  9]]],\n",
       "\n",
       "\n",
       "         [[[ 4,  5],\n",
       "           [ 5,  6],\n",
       "           [ 6,  7]],\n",
       "\n",
       "          [[ 5,  6],\n",
       "           [ 6,  7],\n",
       "           [ 7,  8]],\n",
       "\n",
       "          [[ 6,  7],\n",
       "           [ 7,  8],\n",
       "           [ 8,  9]],\n",
       "\n",
       "          [[ 7,  8],\n",
       "           [ 8,  9],\n",
       "           [ 9, 10]]],\n",
       "\n",
       "\n",
       "         [[[ 5,  6],\n",
       "           [ 6,  7],\n",
       "           [ 7,  8]],\n",
       "\n",
       "          [[ 6,  7],\n",
       "           [ 7,  8],\n",
       "           [ 8,  9]],\n",
       "\n",
       "          [[ 7,  8],\n",
       "           [ 8,  9],\n",
       "           [ 9, 10]],\n",
       "\n",
       "          [[ 8,  9],\n",
       "           [ 9, 10],\n",
       "           [10, 11]]]],\n",
       "\n",
       "\n",
       "\n",
       "        [[[[ 2,  3],\n",
       "           [ 3,  4],\n",
       "           [ 4,  5]],\n",
       "\n",
       "          [[ 3,  4],\n",
       "           [ 4,  5],\n",
       "           [ 5,  6]],\n",
       "\n",
       "          [[ 4,  5],\n",
       "           [ 5,  6],\n",
       "           [ 6,  7]],\n",
       "\n",
       "          [[ 5,  6],\n",
       "           [ 6,  7],\n",
       "           [ 7,  8]]],\n",
       "\n",
       "\n",
       "         [[[ 3,  4],\n",
       "           [ 4,  5],\n",
       "           [ 5,  6]],\n",
       "\n",
       "          [[ 4,  5],\n",
       "           [ 5,  6],\n",
       "           [ 6,  7]],\n",
       "\n",
       "          [[ 5,  6],\n",
       "           [ 6,  7],\n",
       "           [ 7,  8]],\n",
       "\n",
       "          [[ 6,  7],\n",
       "           [ 7,  8],\n",
       "           [ 8,  9]]],\n",
       "\n",
       "\n",
       "         [[[ 4,  5],\n",
       "           [ 5,  6],\n",
       "           [ 6,  7]],\n",
       "\n",
       "          [[ 5,  6],\n",
       "           [ 6,  7],\n",
       "           [ 7,  8]],\n",
       "\n",
       "          [[ 6,  7],\n",
       "           [ 7,  8],\n",
       "           [ 8,  9]],\n",
       "\n",
       "          [[ 7,  8],\n",
       "           [ 8,  9],\n",
       "           [ 9, 10]]],\n",
       "\n",
       "\n",
       "         [[[ 5,  6],\n",
       "           [ 6,  7],\n",
       "           [ 7,  8]],\n",
       "\n",
       "          [[ 6,  7],\n",
       "           [ 7,  8],\n",
       "           [ 8,  9]],\n",
       "\n",
       "          [[ 7,  8],\n",
       "           [ 8,  9],\n",
       "           [ 9, 10]],\n",
       "\n",
       "          [[ 8,  9],\n",
       "           [ 9, 10],\n",
       "           [10, 11]]],\n",
       "\n",
       "\n",
       "         [[[ 6,  7],\n",
       "           [ 7,  8],\n",
       "           [ 8,  9]],\n",
       "\n",
       "          [[ 7,  8],\n",
       "           [ 8,  9],\n",
       "           [ 9, 10]],\n",
       "\n",
       "          [[ 8,  9],\n",
       "           [ 9, 10],\n",
       "           [10, 11]],\n",
       "\n",
       "          [[ 9, 10],\n",
       "           [10, 11],\n",
       "           [11, 12]]]],\n",
       "\n",
       "\n",
       "\n",
       "        [[[[ 3,  4],\n",
       "           [ 4,  5],\n",
       "           [ 5,  6]],\n",
       "\n",
       "          [[ 4,  5],\n",
       "           [ 5,  6],\n",
       "           [ 6,  7]],\n",
       "\n",
       "          [[ 5,  6],\n",
       "           [ 6,  7],\n",
       "           [ 7,  8]],\n",
       "\n",
       "          [[ 6,  7],\n",
       "           [ 7,  8],\n",
       "           [ 8,  9]]],\n",
       "\n",
       "\n",
       "         [[[ 4,  5],\n",
       "           [ 5,  6],\n",
       "           [ 6,  7]],\n",
       "\n",
       "          [[ 5,  6],\n",
       "           [ 6,  7],\n",
       "           [ 7,  8]],\n",
       "\n",
       "          [[ 6,  7],\n",
       "           [ 7,  8],\n",
       "           [ 8,  9]],\n",
       "\n",
       "          [[ 7,  8],\n",
       "           [ 8,  9],\n",
       "           [ 9, 10]]],\n",
       "\n",
       "\n",
       "         [[[ 5,  6],\n",
       "           [ 6,  7],\n",
       "           [ 7,  8]],\n",
       "\n",
       "          [[ 6,  7],\n",
       "           [ 7,  8],\n",
       "           [ 8,  9]],\n",
       "\n",
       "          [[ 7,  8],\n",
       "           [ 8,  9],\n",
       "           [ 9, 10]],\n",
       "\n",
       "          [[ 8,  9],\n",
       "           [ 9, 10],\n",
       "           [10, 11]]],\n",
       "\n",
       "\n",
       "         [[[ 6,  7],\n",
       "           [ 7,  8],\n",
       "           [ 8,  9]],\n",
       "\n",
       "          [[ 7,  8],\n",
       "           [ 8,  9],\n",
       "           [ 9, 10]],\n",
       "\n",
       "          [[ 8,  9],\n",
       "           [ 9, 10],\n",
       "           [10, 11]],\n",
       "\n",
       "          [[ 9, 10],\n",
       "           [10, 11],\n",
       "           [11, 12]]],\n",
       "\n",
       "\n",
       "         [[[ 7,  8],\n",
       "           [ 8,  9],\n",
       "           [ 9, 10]],\n",
       "\n",
       "          [[ 8,  9],\n",
       "           [ 9, 10],\n",
       "           [10, 11]],\n",
       "\n",
       "          [[ 9, 10],\n",
       "           [10, 11],\n",
       "           [11, 12]],\n",
       "\n",
       "          [[10, 11],\n",
       "           [11, 12],\n",
       "           [12, 13]]]],\n",
       "\n",
       "\n",
       "\n",
       "        [[[[ 4,  5],\n",
       "           [ 5,  6],\n",
       "           [ 6,  7]],\n",
       "\n",
       "          [[ 5,  6],\n",
       "           [ 6,  7],\n",
       "           [ 7,  8]],\n",
       "\n",
       "          [[ 6,  7],\n",
       "           [ 7,  8],\n",
       "           [ 8,  9]],\n",
       "\n",
       "          [[ 7,  8],\n",
       "           [ 8,  9],\n",
       "           [ 9, 10]]],\n",
       "\n",
       "\n",
       "         [[[ 5,  6],\n",
       "           [ 6,  7],\n",
       "           [ 7,  8]],\n",
       "\n",
       "          [[ 6,  7],\n",
       "           [ 7,  8],\n",
       "           [ 8,  9]],\n",
       "\n",
       "          [[ 7,  8],\n",
       "           [ 8,  9],\n",
       "           [ 9, 10]],\n",
       "\n",
       "          [[ 8,  9],\n",
       "           [ 9, 10],\n",
       "           [10, 11]]],\n",
       "\n",
       "\n",
       "         [[[ 6,  7],\n",
       "           [ 7,  8],\n",
       "           [ 8,  9]],\n",
       "\n",
       "          [[ 7,  8],\n",
       "           [ 8,  9],\n",
       "           [ 9, 10]],\n",
       "\n",
       "          [[ 8,  9],\n",
       "           [ 9, 10],\n",
       "           [10, 11]],\n",
       "\n",
       "          [[ 9, 10],\n",
       "           [10, 11],\n",
       "           [11, 12]]],\n",
       "\n",
       "\n",
       "         [[[ 7,  8],\n",
       "           [ 8,  9],\n",
       "           [ 9, 10]],\n",
       "\n",
       "          [[ 8,  9],\n",
       "           [ 9, 10],\n",
       "           [10, 11]],\n",
       "\n",
       "          [[ 9, 10],\n",
       "           [10, 11],\n",
       "           [11, 12]],\n",
       "\n",
       "          [[10, 11],\n",
       "           [11, 12],\n",
       "           [12, 13]]],\n",
       "\n",
       "\n",
       "         [[[ 8,  9],\n",
       "           [ 9, 10],\n",
       "           [10, 11]],\n",
       "\n",
       "          [[ 9, 10],\n",
       "           [10, 11],\n",
       "           [11, 12]],\n",
       "\n",
       "          [[10, 11],\n",
       "           [11, 12],\n",
       "           [12, 13]],\n",
       "\n",
       "          [[11, 12],\n",
       "           [12, 13],\n",
       "           [13, 14]]]],\n",
       "\n",
       "\n",
       "\n",
       "        [[[[ 5,  6],\n",
       "           [ 6,  7],\n",
       "           [ 7,  8]],\n",
       "\n",
       "          [[ 6,  7],\n",
       "           [ 7,  8],\n",
       "           [ 8,  9]],\n",
       "\n",
       "          [[ 7,  8],\n",
       "           [ 8,  9],\n",
       "           [ 9, 10]],\n",
       "\n",
       "          [[ 8,  9],\n",
       "           [ 9, 10],\n",
       "           [10, 11]]],\n",
       "\n",
       "\n",
       "         [[[ 6,  7],\n",
       "           [ 7,  8],\n",
       "           [ 8,  9]],\n",
       "\n",
       "          [[ 7,  8],\n",
       "           [ 8,  9],\n",
       "           [ 9, 10]],\n",
       "\n",
       "          [[ 8,  9],\n",
       "           [ 9, 10],\n",
       "           [10, 11]],\n",
       "\n",
       "          [[ 9, 10],\n",
       "           [10, 11],\n",
       "           [11, 12]]],\n",
       "\n",
       "\n",
       "         [[[ 7,  8],\n",
       "           [ 8,  9],\n",
       "           [ 9, 10]],\n",
       "\n",
       "          [[ 8,  9],\n",
       "           [ 9, 10],\n",
       "           [10, 11]],\n",
       "\n",
       "          [[ 9, 10],\n",
       "           [10, 11],\n",
       "           [11, 12]],\n",
       "\n",
       "          [[10, 11],\n",
       "           [11, 12],\n",
       "           [12, 13]]],\n",
       "\n",
       "\n",
       "         [[[ 8,  9],\n",
       "           [ 9, 10],\n",
       "           [10, 11]],\n",
       "\n",
       "          [[ 9, 10],\n",
       "           [10, 11],\n",
       "           [11, 12]],\n",
       "\n",
       "          [[10, 11],\n",
       "           [11, 12],\n",
       "           [12, 13]],\n",
       "\n",
       "          [[11, 12],\n",
       "           [12, 13],\n",
       "           [13, 14]]],\n",
       "\n",
       "\n",
       "         [[[ 9, 10],\n",
       "           [10, 11],\n",
       "           [11, 12]],\n",
       "\n",
       "          [[10, 11],\n",
       "           [11, 12],\n",
       "           [12, 13]],\n",
       "\n",
       "          [[11, 12],\n",
       "           [12, 13],\n",
       "           [13, 14]],\n",
       "\n",
       "          [[12, 13],\n",
       "           [13, 14],\n",
       "           [14, 15]]]],\n",
       "\n",
       "\n",
       "\n",
       "        [[[[ 6,  7],\n",
       "           [ 7,  8],\n",
       "           [ 8,  9]],\n",
       "\n",
       "          [[ 7,  8],\n",
       "           [ 8,  9],\n",
       "           [ 9, 10]],\n",
       "\n",
       "          [[ 8,  9],\n",
       "           [ 9, 10],\n",
       "           [10, 11]],\n",
       "\n",
       "          [[ 9, 10],\n",
       "           [10, 11],\n",
       "           [11, 12]]],\n",
       "\n",
       "\n",
       "         [[[ 7,  8],\n",
       "           [ 8,  9],\n",
       "           [ 9, 10]],\n",
       "\n",
       "          [[ 8,  9],\n",
       "           [ 9, 10],\n",
       "           [10, 11]],\n",
       "\n",
       "          [[ 9, 10],\n",
       "           [10, 11],\n",
       "           [11, 12]],\n",
       "\n",
       "          [[10, 11],\n",
       "           [11, 12],\n",
       "           [12, 13]]],\n",
       "\n",
       "\n",
       "         [[[ 8,  9],\n",
       "           [ 9, 10],\n",
       "           [10, 11]],\n",
       "\n",
       "          [[ 9, 10],\n",
       "           [10, 11],\n",
       "           [11, 12]],\n",
       "\n",
       "          [[10, 11],\n",
       "           [11, 12],\n",
       "           [12, 13]],\n",
       "\n",
       "          [[11, 12],\n",
       "           [12, 13],\n",
       "           [13, 14]]],\n",
       "\n",
       "\n",
       "         [[[ 9, 10],\n",
       "           [10, 11],\n",
       "           [11, 12]],\n",
       "\n",
       "          [[10, 11],\n",
       "           [11, 12],\n",
       "           [12, 13]],\n",
       "\n",
       "          [[11, 12],\n",
       "           [12, 13],\n",
       "           [13, 14]],\n",
       "\n",
       "          [[12, 13],\n",
       "           [13, 14],\n",
       "           [14, 15]]],\n",
       "\n",
       "\n",
       "         [[[10, 11],\n",
       "           [11, 12],\n",
       "           [12, 13]],\n",
       "\n",
       "          [[11, 12],\n",
       "           [12, 13],\n",
       "           [13, 14]],\n",
       "\n",
       "          [[12, 13],\n",
       "           [13, 14],\n",
       "           [14, 15]],\n",
       "\n",
       "          [[13, 14],\n",
       "           [14, 15],\n",
       "           [15, 16]]]]],\n",
       "\n",
       "\n",
       "\n",
       "\n",
       "       [[[[[ 2,  3],\n",
       "           [ 3,  4],\n",
       "           [ 4,  5]],\n",
       "\n",
       "          [[ 3,  4],\n",
       "           [ 4,  5],\n",
       "           [ 5,  6]],\n",
       "\n",
       "          [[ 4,  5],\n",
       "           [ 5,  6],\n",
       "           [ 6,  7]],\n",
       "\n",
       "          [[ 5,  6],\n",
       "           [ 6,  7],\n",
       "           [ 7,  8]]],\n",
       "\n",
       "\n",
       "         [[[ 3,  4],\n",
       "           [ 4,  5],\n",
       "           [ 5,  6]],\n",
       "\n",
       "          [[ 4,  5],\n",
       "           [ 5,  6],\n",
       "           [ 6,  7]],\n",
       "\n",
       "          [[ 5,  6],\n",
       "           [ 6,  7],\n",
       "           [ 7,  8]],\n",
       "\n",
       "          [[ 6,  7],\n",
       "           [ 7,  8],\n",
       "           [ 8,  9]]],\n",
       "\n",
       "\n",
       "         [[[ 4,  5],\n",
       "           [ 5,  6],\n",
       "           [ 6,  7]],\n",
       "\n",
       "          [[ 5,  6],\n",
       "           [ 6,  7],\n",
       "           [ 7,  8]],\n",
       "\n",
       "          [[ 6,  7],\n",
       "           [ 7,  8],\n",
       "           [ 8,  9]],\n",
       "\n",
       "          [[ 7,  8],\n",
       "           [ 8,  9],\n",
       "           [ 9, 10]]],\n",
       "\n",
       "\n",
       "         [[[ 5,  6],\n",
       "           [ 6,  7],\n",
       "           [ 7,  8]],\n",
       "\n",
       "          [[ 6,  7],\n",
       "           [ 7,  8],\n",
       "           [ 8,  9]],\n",
       "\n",
       "          [[ 7,  8],\n",
       "           [ 8,  9],\n",
       "           [ 9, 10]],\n",
       "\n",
       "          [[ 8,  9],\n",
       "           [ 9, 10],\n",
       "           [10, 11]]],\n",
       "\n",
       "\n",
       "         [[[ 6,  7],\n",
       "           [ 7,  8],\n",
       "           [ 8,  9]],\n",
       "\n",
       "          [[ 7,  8],\n",
       "           [ 8,  9],\n",
       "           [ 9, 10]],\n",
       "\n",
       "          [[ 8,  9],\n",
       "           [ 9, 10],\n",
       "           [10, 11]],\n",
       "\n",
       "          [[ 9, 10],\n",
       "           [10, 11],\n",
       "           [11, 12]]]],\n",
       "\n",
       "\n",
       "\n",
       "        [[[[ 3,  4],\n",
       "           [ 4,  5],\n",
       "           [ 5,  6]],\n",
       "\n",
       "          [[ 4,  5],\n",
       "           [ 5,  6],\n",
       "           [ 6,  7]],\n",
       "\n",
       "          [[ 5,  6],\n",
       "           [ 6,  7],\n",
       "           [ 7,  8]],\n",
       "\n",
       "          [[ 6,  7],\n",
       "           [ 7,  8],\n",
       "           [ 8,  9]]],\n",
       "\n",
       "\n",
       "         [[[ 4,  5],\n",
       "           [ 5,  6],\n",
       "           [ 6,  7]],\n",
       "\n",
       "          [[ 5,  6],\n",
       "           [ 6,  7],\n",
       "           [ 7,  8]],\n",
       "\n",
       "          [[ 6,  7],\n",
       "           [ 7,  8],\n",
       "           [ 8,  9]],\n",
       "\n",
       "          [[ 7,  8],\n",
       "           [ 8,  9],\n",
       "           [ 9, 10]]],\n",
       "\n",
       "\n",
       "         [[[ 5,  6],\n",
       "           [ 6,  7],\n",
       "           [ 7,  8]],\n",
       "\n",
       "          [[ 6,  7],\n",
       "           [ 7,  8],\n",
       "           [ 8,  9]],\n",
       "\n",
       "          [[ 7,  8],\n",
       "           [ 8,  9],\n",
       "           [ 9, 10]],\n",
       "\n",
       "          [[ 8,  9],\n",
       "           [ 9, 10],\n",
       "           [10, 11]]],\n",
       "\n",
       "\n",
       "         [[[ 6,  7],\n",
       "           [ 7,  8],\n",
       "           [ 8,  9]],\n",
       "\n",
       "          [[ 7,  8],\n",
       "           [ 8,  9],\n",
       "           [ 9, 10]],\n",
       "\n",
       "          [[ 8,  9],\n",
       "           [ 9, 10],\n",
       "           [10, 11]],\n",
       "\n",
       "          [[ 9, 10],\n",
       "           [10, 11],\n",
       "           [11, 12]]],\n",
       "\n",
       "\n",
       "         [[[ 7,  8],\n",
       "           [ 8,  9],\n",
       "           [ 9, 10]],\n",
       "\n",
       "          [[ 8,  9],\n",
       "           [ 9, 10],\n",
       "           [10, 11]],\n",
       "\n",
       "          [[ 9, 10],\n",
       "           [10, 11],\n",
       "           [11, 12]],\n",
       "\n",
       "          [[10, 11],\n",
       "           [11, 12],\n",
       "           [12, 13]]]],\n",
       "\n",
       "\n",
       "\n",
       "        [[[[ 4,  5],\n",
       "           [ 5,  6],\n",
       "           [ 6,  7]],\n",
       "\n",
       "          [[ 5,  6],\n",
       "           [ 6,  7],\n",
       "           [ 7,  8]],\n",
       "\n",
       "          [[ 6,  7],\n",
       "           [ 7,  8],\n",
       "           [ 8,  9]],\n",
       "\n",
       "          [[ 7,  8],\n",
       "           [ 8,  9],\n",
       "           [ 9, 10]]],\n",
       "\n",
       "\n",
       "         [[[ 5,  6],\n",
       "           [ 6,  7],\n",
       "           [ 7,  8]],\n",
       "\n",
       "          [[ 6,  7],\n",
       "           [ 7,  8],\n",
       "           [ 8,  9]],\n",
       "\n",
       "          [[ 7,  8],\n",
       "           [ 8,  9],\n",
       "           [ 9, 10]],\n",
       "\n",
       "          [[ 8,  9],\n",
       "           [ 9, 10],\n",
       "           [10, 11]]],\n",
       "\n",
       "\n",
       "         [[[ 6,  7],\n",
       "           [ 7,  8],\n",
       "           [ 8,  9]],\n",
       "\n",
       "          [[ 7,  8],\n",
       "           [ 8,  9],\n",
       "           [ 9, 10]],\n",
       "\n",
       "          [[ 8,  9],\n",
       "           [ 9, 10],\n",
       "           [10, 11]],\n",
       "\n",
       "          [[ 9, 10],\n",
       "           [10, 11],\n",
       "           [11, 12]]],\n",
       "\n",
       "\n",
       "         [[[ 7,  8],\n",
       "           [ 8,  9],\n",
       "           [ 9, 10]],\n",
       "\n",
       "          [[ 8,  9],\n",
       "           [ 9, 10],\n",
       "           [10, 11]],\n",
       "\n",
       "          [[ 9, 10],\n",
       "           [10, 11],\n",
       "           [11, 12]],\n",
       "\n",
       "          [[10, 11],\n",
       "           [11, 12],\n",
       "           [12, 13]]],\n",
       "\n",
       "\n",
       "         [[[ 8,  9],\n",
       "           [ 9, 10],\n",
       "           [10, 11]],\n",
       "\n",
       "          [[ 9, 10],\n",
       "           [10, 11],\n",
       "           [11, 12]],\n",
       "\n",
       "          [[10, 11],\n",
       "           [11, 12],\n",
       "           [12, 13]],\n",
       "\n",
       "          [[11, 12],\n",
       "           [12, 13],\n",
       "           [13, 14]]]],\n",
       "\n",
       "\n",
       "\n",
       "        [[[[ 5,  6],\n",
       "           [ 6,  7],\n",
       "           [ 7,  8]],\n",
       "\n",
       "          [[ 6,  7],\n",
       "           [ 7,  8],\n",
       "           [ 8,  9]],\n",
       "\n",
       "          [[ 7,  8],\n",
       "           [ 8,  9],\n",
       "           [ 9, 10]],\n",
       "\n",
       "          [[ 8,  9],\n",
       "           [ 9, 10],\n",
       "           [10, 11]]],\n",
       "\n",
       "\n",
       "         [[[ 6,  7],\n",
       "           [ 7,  8],\n",
       "           [ 8,  9]],\n",
       "\n",
       "          [[ 7,  8],\n",
       "           [ 8,  9],\n",
       "           [ 9, 10]],\n",
       "\n",
       "          [[ 8,  9],\n",
       "           [ 9, 10],\n",
       "           [10, 11]],\n",
       "\n",
       "          [[ 9, 10],\n",
       "           [10, 11],\n",
       "           [11, 12]]],\n",
       "\n",
       "\n",
       "         [[[ 7,  8],\n",
       "           [ 8,  9],\n",
       "           [ 9, 10]],\n",
       "\n",
       "          [[ 8,  9],\n",
       "           [ 9, 10],\n",
       "           [10, 11]],\n",
       "\n",
       "          [[ 9, 10],\n",
       "           [10, 11],\n",
       "           [11, 12]],\n",
       "\n",
       "          [[10, 11],\n",
       "           [11, 12],\n",
       "           [12, 13]]],\n",
       "\n",
       "\n",
       "         [[[ 8,  9],\n",
       "           [ 9, 10],\n",
       "           [10, 11]],\n",
       "\n",
       "          [[ 9, 10],\n",
       "           [10, 11],\n",
       "           [11, 12]],\n",
       "\n",
       "          [[10, 11],\n",
       "           [11, 12],\n",
       "           [12, 13]],\n",
       "\n",
       "          [[11, 12],\n",
       "           [12, 13],\n",
       "           [13, 14]]],\n",
       "\n",
       "\n",
       "         [[[ 9, 10],\n",
       "           [10, 11],\n",
       "           [11, 12]],\n",
       "\n",
       "          [[10, 11],\n",
       "           [11, 12],\n",
       "           [12, 13]],\n",
       "\n",
       "          [[11, 12],\n",
       "           [12, 13],\n",
       "           [13, 14]],\n",
       "\n",
       "          [[12, 13],\n",
       "           [13, 14],\n",
       "           [14, 15]]]],\n",
       "\n",
       "\n",
       "\n",
       "        [[[[ 6,  7],\n",
       "           [ 7,  8],\n",
       "           [ 8,  9]],\n",
       "\n",
       "          [[ 7,  8],\n",
       "           [ 8,  9],\n",
       "           [ 9, 10]],\n",
       "\n",
       "          [[ 8,  9],\n",
       "           [ 9, 10],\n",
       "           [10, 11]],\n",
       "\n",
       "          [[ 9, 10],\n",
       "           [10, 11],\n",
       "           [11, 12]]],\n",
       "\n",
       "\n",
       "         [[[ 7,  8],\n",
       "           [ 8,  9],\n",
       "           [ 9, 10]],\n",
       "\n",
       "          [[ 8,  9],\n",
       "           [ 9, 10],\n",
       "           [10, 11]],\n",
       "\n",
       "          [[ 9, 10],\n",
       "           [10, 11],\n",
       "           [11, 12]],\n",
       "\n",
       "          [[10, 11],\n",
       "           [11, 12],\n",
       "           [12, 13]]],\n",
       "\n",
       "\n",
       "         [[[ 8,  9],\n",
       "           [ 9, 10],\n",
       "           [10, 11]],\n",
       "\n",
       "          [[ 9, 10],\n",
       "           [10, 11],\n",
       "           [11, 12]],\n",
       "\n",
       "          [[10, 11],\n",
       "           [11, 12],\n",
       "           [12, 13]],\n",
       "\n",
       "          [[11, 12],\n",
       "           [12, 13],\n",
       "           [13, 14]]],\n",
       "\n",
       "\n",
       "         [[[ 9, 10],\n",
       "           [10, 11],\n",
       "           [11, 12]],\n",
       "\n",
       "          [[10, 11],\n",
       "           [11, 12],\n",
       "           [12, 13]],\n",
       "\n",
       "          [[11, 12],\n",
       "           [12, 13],\n",
       "           [13, 14]],\n",
       "\n",
       "          [[12, 13],\n",
       "           [13, 14],\n",
       "           [14, 15]]],\n",
       "\n",
       "\n",
       "         [[[10, 11],\n",
       "           [11, 12],\n",
       "           [12, 13]],\n",
       "\n",
       "          [[11, 12],\n",
       "           [12, 13],\n",
       "           [13, 14]],\n",
       "\n",
       "          [[12, 13],\n",
       "           [13, 14],\n",
       "           [14, 15]],\n",
       "\n",
       "          [[13, 14],\n",
       "           [14, 15],\n",
       "           [15, 16]]]],\n",
       "\n",
       "\n",
       "\n",
       "        [[[[ 7,  8],\n",
       "           [ 8,  9],\n",
       "           [ 9, 10]],\n",
       "\n",
       "          [[ 8,  9],\n",
       "           [ 9, 10],\n",
       "           [10, 11]],\n",
       "\n",
       "          [[ 9, 10],\n",
       "           [10, 11],\n",
       "           [11, 12]],\n",
       "\n",
       "          [[10, 11],\n",
       "           [11, 12],\n",
       "           [12, 13]]],\n",
       "\n",
       "\n",
       "         [[[ 8,  9],\n",
       "           [ 9, 10],\n",
       "           [10, 11]],\n",
       "\n",
       "          [[ 9, 10],\n",
       "           [10, 11],\n",
       "           [11, 12]],\n",
       "\n",
       "          [[10, 11],\n",
       "           [11, 12],\n",
       "           [12, 13]],\n",
       "\n",
       "          [[11, 12],\n",
       "           [12, 13],\n",
       "           [13, 14]]],\n",
       "\n",
       "\n",
       "         [[[ 9, 10],\n",
       "           [10, 11],\n",
       "           [11, 12]],\n",
       "\n",
       "          [[10, 11],\n",
       "           [11, 12],\n",
       "           [12, 13]],\n",
       "\n",
       "          [[11, 12],\n",
       "           [12, 13],\n",
       "           [13, 14]],\n",
       "\n",
       "          [[12, 13],\n",
       "           [13, 14],\n",
       "           [14, 15]]],\n",
       "\n",
       "\n",
       "         [[[10, 11],\n",
       "           [11, 12],\n",
       "           [12, 13]],\n",
       "\n",
       "          [[11, 12],\n",
       "           [12, 13],\n",
       "           [13, 14]],\n",
       "\n",
       "          [[12, 13],\n",
       "           [13, 14],\n",
       "           [14, 15]],\n",
       "\n",
       "          [[13, 14],\n",
       "           [14, 15],\n",
       "           [15, 16]]],\n",
       "\n",
       "\n",
       "         [[[11, 12],\n",
       "           [12, 13],\n",
       "           [13, 14]],\n",
       "\n",
       "          [[12, 13],\n",
       "           [13, 14],\n",
       "           [14, 15]],\n",
       "\n",
       "          [[13, 14],\n",
       "           [14, 15],\n",
       "           [15, 16]],\n",
       "\n",
       "          [[14, 15],\n",
       "           [15, 16],\n",
       "           [16, 17]]]]],\n",
       "\n",
       "\n",
       "\n",
       "\n",
       "       ...,\n",
       "\n",
       "\n",
       "\n",
       "\n",
       "       [[[[[ 4,  5],\n",
       "           [ 5,  6],\n",
       "           [ 6,  7]],\n",
       "\n",
       "          [[ 5,  6],\n",
       "           [ 6,  7],\n",
       "           [ 7,  8]],\n",
       "\n",
       "          [[ 6,  7],\n",
       "           [ 7,  8],\n",
       "           [ 8,  9]],\n",
       "\n",
       "          [[ 7,  8],\n",
       "           [ 8,  9],\n",
       "           [ 9, 10]]],\n",
       "\n",
       "\n",
       "         [[[ 5,  6],\n",
       "           [ 6,  7],\n",
       "           [ 7,  8]],\n",
       "\n",
       "          [[ 6,  7],\n",
       "           [ 7,  8],\n",
       "           [ 8,  9]],\n",
       "\n",
       "          [[ 7,  8],\n",
       "           [ 8,  9],\n",
       "           [ 9, 10]],\n",
       "\n",
       "          [[ 8,  9],\n",
       "           [ 9, 10],\n",
       "           [10, 11]]],\n",
       "\n",
       "\n",
       "         [[[ 6,  7],\n",
       "           [ 7,  8],\n",
       "           [ 8,  9]],\n",
       "\n",
       "          [[ 7,  8],\n",
       "           [ 8,  9],\n",
       "           [ 9, 10]],\n",
       "\n",
       "          [[ 8,  9],\n",
       "           [ 9, 10],\n",
       "           [10, 11]],\n",
       "\n",
       "          [[ 9, 10],\n",
       "           [10, 11],\n",
       "           [11, 12]]],\n",
       "\n",
       "\n",
       "         [[[ 7,  8],\n",
       "           [ 8,  9],\n",
       "           [ 9, 10]],\n",
       "\n",
       "          [[ 8,  9],\n",
       "           [ 9, 10],\n",
       "           [10, 11]],\n",
       "\n",
       "          [[ 9, 10],\n",
       "           [10, 11],\n",
       "           [11, 12]],\n",
       "\n",
       "          [[10, 11],\n",
       "           [11, 12],\n",
       "           [12, 13]]],\n",
       "\n",
       "\n",
       "         [[[ 8,  9],\n",
       "           [ 9, 10],\n",
       "           [10, 11]],\n",
       "\n",
       "          [[ 9, 10],\n",
       "           [10, 11],\n",
       "           [11, 12]],\n",
       "\n",
       "          [[10, 11],\n",
       "           [11, 12],\n",
       "           [12, 13]],\n",
       "\n",
       "          [[11, 12],\n",
       "           [12, 13],\n",
       "           [13, 14]]]],\n",
       "\n",
       "\n",
       "\n",
       "        [[[[ 5,  6],\n",
       "           [ 6,  7],\n",
       "           [ 7,  8]],\n",
       "\n",
       "          [[ 6,  7],\n",
       "           [ 7,  8],\n",
       "           [ 8,  9]],\n",
       "\n",
       "          [[ 7,  8],\n",
       "           [ 8,  9],\n",
       "           [ 9, 10]],\n",
       "\n",
       "          [[ 8,  9],\n",
       "           [ 9, 10],\n",
       "           [10, 11]]],\n",
       "\n",
       "\n",
       "         [[[ 6,  7],\n",
       "           [ 7,  8],\n",
       "           [ 8,  9]],\n",
       "\n",
       "          [[ 7,  8],\n",
       "           [ 8,  9],\n",
       "           [ 9, 10]],\n",
       "\n",
       "          [[ 8,  9],\n",
       "           [ 9, 10],\n",
       "           [10, 11]],\n",
       "\n",
       "          [[ 9, 10],\n",
       "           [10, 11],\n",
       "           [11, 12]]],\n",
       "\n",
       "\n",
       "         [[[ 7,  8],\n",
       "           [ 8,  9],\n",
       "           [ 9, 10]],\n",
       "\n",
       "          [[ 8,  9],\n",
       "           [ 9, 10],\n",
       "           [10, 11]],\n",
       "\n",
       "          [[ 9, 10],\n",
       "           [10, 11],\n",
       "           [11, 12]],\n",
       "\n",
       "          [[10, 11],\n",
       "           [11, 12],\n",
       "           [12, 13]]],\n",
       "\n",
       "\n",
       "         [[[ 8,  9],\n",
       "           [ 9, 10],\n",
       "           [10, 11]],\n",
       "\n",
       "          [[ 9, 10],\n",
       "           [10, 11],\n",
       "           [11, 12]],\n",
       "\n",
       "          [[10, 11],\n",
       "           [11, 12],\n",
       "           [12, 13]],\n",
       "\n",
       "          [[11, 12],\n",
       "           [12, 13],\n",
       "           [13, 14]]],\n",
       "\n",
       "\n",
       "         [[[ 9, 10],\n",
       "           [10, 11],\n",
       "           [11, 12]],\n",
       "\n",
       "          [[10, 11],\n",
       "           [11, 12],\n",
       "           [12, 13]],\n",
       "\n",
       "          [[11, 12],\n",
       "           [12, 13],\n",
       "           [13, 14]],\n",
       "\n",
       "          [[12, 13],\n",
       "           [13, 14],\n",
       "           [14, 15]]]],\n",
       "\n",
       "\n",
       "\n",
       "        [[[[ 6,  7],\n",
       "           [ 7,  8],\n",
       "           [ 8,  9]],\n",
       "\n",
       "          [[ 7,  8],\n",
       "           [ 8,  9],\n",
       "           [ 9, 10]],\n",
       "\n",
       "          [[ 8,  9],\n",
       "           [ 9, 10],\n",
       "           [10, 11]],\n",
       "\n",
       "          [[ 9, 10],\n",
       "           [10, 11],\n",
       "           [11, 12]]],\n",
       "\n",
       "\n",
       "         [[[ 7,  8],\n",
       "           [ 8,  9],\n",
       "           [ 9, 10]],\n",
       "\n",
       "          [[ 8,  9],\n",
       "           [ 9, 10],\n",
       "           [10, 11]],\n",
       "\n",
       "          [[ 9, 10],\n",
       "           [10, 11],\n",
       "           [11, 12]],\n",
       "\n",
       "          [[10, 11],\n",
       "           [11, 12],\n",
       "           [12, 13]]],\n",
       "\n",
       "\n",
       "         [[[ 8,  9],\n",
       "           [ 9, 10],\n",
       "           [10, 11]],\n",
       "\n",
       "          [[ 9, 10],\n",
       "           [10, 11],\n",
       "           [11, 12]],\n",
       "\n",
       "          [[10, 11],\n",
       "           [11, 12],\n",
       "           [12, 13]],\n",
       "\n",
       "          [[11, 12],\n",
       "           [12, 13],\n",
       "           [13, 14]]],\n",
       "\n",
       "\n",
       "         [[[ 9, 10],\n",
       "           [10, 11],\n",
       "           [11, 12]],\n",
       "\n",
       "          [[10, 11],\n",
       "           [11, 12],\n",
       "           [12, 13]],\n",
       "\n",
       "          [[11, 12],\n",
       "           [12, 13],\n",
       "           [13, 14]],\n",
       "\n",
       "          [[12, 13],\n",
       "           [13, 14],\n",
       "           [14, 15]]],\n",
       "\n",
       "\n",
       "         [[[10, 11],\n",
       "           [11, 12],\n",
       "           [12, 13]],\n",
       "\n",
       "          [[11, 12],\n",
       "           [12, 13],\n",
       "           [13, 14]],\n",
       "\n",
       "          [[12, 13],\n",
       "           [13, 14],\n",
       "           [14, 15]],\n",
       "\n",
       "          [[13, 14],\n",
       "           [14, 15],\n",
       "           [15, 16]]]],\n",
       "\n",
       "\n",
       "\n",
       "        [[[[ 7,  8],\n",
       "           [ 8,  9],\n",
       "           [ 9, 10]],\n",
       "\n",
       "          [[ 8,  9],\n",
       "           [ 9, 10],\n",
       "           [10, 11]],\n",
       "\n",
       "          [[ 9, 10],\n",
       "           [10, 11],\n",
       "           [11, 12]],\n",
       "\n",
       "          [[10, 11],\n",
       "           [11, 12],\n",
       "           [12, 13]]],\n",
       "\n",
       "\n",
       "         [[[ 8,  9],\n",
       "           [ 9, 10],\n",
       "           [10, 11]],\n",
       "\n",
       "          [[ 9, 10],\n",
       "           [10, 11],\n",
       "           [11, 12]],\n",
       "\n",
       "          [[10, 11],\n",
       "           [11, 12],\n",
       "           [12, 13]],\n",
       "\n",
       "          [[11, 12],\n",
       "           [12, 13],\n",
       "           [13, 14]]],\n",
       "\n",
       "\n",
       "         [[[ 9, 10],\n",
       "           [10, 11],\n",
       "           [11, 12]],\n",
       "\n",
       "          [[10, 11],\n",
       "           [11, 12],\n",
       "           [12, 13]],\n",
       "\n",
       "          [[11, 12],\n",
       "           [12, 13],\n",
       "           [13, 14]],\n",
       "\n",
       "          [[12, 13],\n",
       "           [13, 14],\n",
       "           [14, 15]]],\n",
       "\n",
       "\n",
       "         [[[10, 11],\n",
       "           [11, 12],\n",
       "           [12, 13]],\n",
       "\n",
       "          [[11, 12],\n",
       "           [12, 13],\n",
       "           [13, 14]],\n",
       "\n",
       "          [[12, 13],\n",
       "           [13, 14],\n",
       "           [14, 15]],\n",
       "\n",
       "          [[13, 14],\n",
       "           [14, 15],\n",
       "           [15, 16]]],\n",
       "\n",
       "\n",
       "         [[[11, 12],\n",
       "           [12, 13],\n",
       "           [13, 14]],\n",
       "\n",
       "          [[12, 13],\n",
       "           [13, 14],\n",
       "           [14, 15]],\n",
       "\n",
       "          [[13, 14],\n",
       "           [14, 15],\n",
       "           [15, 16]],\n",
       "\n",
       "          [[14, 15],\n",
       "           [15, 16],\n",
       "           [16, 17]]]],\n",
       "\n",
       "\n",
       "\n",
       "        [[[[ 8,  9],\n",
       "           [ 9, 10],\n",
       "           [10, 11]],\n",
       "\n",
       "          [[ 9, 10],\n",
       "           [10, 11],\n",
       "           [11, 12]],\n",
       "\n",
       "          [[10, 11],\n",
       "           [11, 12],\n",
       "           [12, 13]],\n",
       "\n",
       "          [[11, 12],\n",
       "           [12, 13],\n",
       "           [13, 14]]],\n",
       "\n",
       "\n",
       "         [[[ 9, 10],\n",
       "           [10, 11],\n",
       "           [11, 12]],\n",
       "\n",
       "          [[10, 11],\n",
       "           [11, 12],\n",
       "           [12, 13]],\n",
       "\n",
       "          [[11, 12],\n",
       "           [12, 13],\n",
       "           [13, 14]],\n",
       "\n",
       "          [[12, 13],\n",
       "           [13, 14],\n",
       "           [14, 15]]],\n",
       "\n",
       "\n",
       "         [[[10, 11],\n",
       "           [11, 12],\n",
       "           [12, 13]],\n",
       "\n",
       "          [[11, 12],\n",
       "           [12, 13],\n",
       "           [13, 14]],\n",
       "\n",
       "          [[12, 13],\n",
       "           [13, 14],\n",
       "           [14, 15]],\n",
       "\n",
       "          [[13, 14],\n",
       "           [14, 15],\n",
       "           [15, 16]]],\n",
       "\n",
       "\n",
       "         [[[11, 12],\n",
       "           [12, 13],\n",
       "           [13, 14]],\n",
       "\n",
       "          [[12, 13],\n",
       "           [13, 14],\n",
       "           [14, 15]],\n",
       "\n",
       "          [[13, 14],\n",
       "           [14, 15],\n",
       "           [15, 16]],\n",
       "\n",
       "          [[14, 15],\n",
       "           [15, 16],\n",
       "           [16, 17]]],\n",
       "\n",
       "\n",
       "         [[[12, 13],\n",
       "           [13, 14],\n",
       "           [14, 15]],\n",
       "\n",
       "          [[13, 14],\n",
       "           [14, 15],\n",
       "           [15, 16]],\n",
       "\n",
       "          [[14, 15],\n",
       "           [15, 16],\n",
       "           [16, 17]],\n",
       "\n",
       "          [[15, 16],\n",
       "           [16, 17],\n",
       "           [17, 18]]]],\n",
       "\n",
       "\n",
       "\n",
       "        [[[[ 9, 10],\n",
       "           [10, 11],\n",
       "           [11, 12]],\n",
       "\n",
       "          [[10, 11],\n",
       "           [11, 12],\n",
       "           [12, 13]],\n",
       "\n",
       "          [[11, 12],\n",
       "           [12, 13],\n",
       "           [13, 14]],\n",
       "\n",
       "          [[12, 13],\n",
       "           [13, 14],\n",
       "           [14, 15]]],\n",
       "\n",
       "\n",
       "         [[[10, 11],\n",
       "           [11, 12],\n",
       "           [12, 13]],\n",
       "\n",
       "          [[11, 12],\n",
       "           [12, 13],\n",
       "           [13, 14]],\n",
       "\n",
       "          [[12, 13],\n",
       "           [13, 14],\n",
       "           [14, 15]],\n",
       "\n",
       "          [[13, 14],\n",
       "           [14, 15],\n",
       "           [15, 16]]],\n",
       "\n",
       "\n",
       "         [[[11, 12],\n",
       "           [12, 13],\n",
       "           [13, 14]],\n",
       "\n",
       "          [[12, 13],\n",
       "           [13, 14],\n",
       "           [14, 15]],\n",
       "\n",
       "          [[13, 14],\n",
       "           [14, 15],\n",
       "           [15, 16]],\n",
       "\n",
       "          [[14, 15],\n",
       "           [15, 16],\n",
       "           [16, 17]]],\n",
       "\n",
       "\n",
       "         [[[12, 13],\n",
       "           [13, 14],\n",
       "           [14, 15]],\n",
       "\n",
       "          [[13, 14],\n",
       "           [14, 15],\n",
       "           [15, 16]],\n",
       "\n",
       "          [[14, 15],\n",
       "           [15, 16],\n",
       "           [16, 17]],\n",
       "\n",
       "          [[15, 16],\n",
       "           [16, 17],\n",
       "           [17, 18]]],\n",
       "\n",
       "\n",
       "         [[[13, 14],\n",
       "           [14, 15],\n",
       "           [15, 16]],\n",
       "\n",
       "          [[14, 15],\n",
       "           [15, 16],\n",
       "           [16, 17]],\n",
       "\n",
       "          [[15, 16],\n",
       "           [16, 17],\n",
       "           [17, 18]],\n",
       "\n",
       "          [[16, 17],\n",
       "           [17, 18],\n",
       "           [18, 19]]]]],\n",
       "\n",
       "\n",
       "\n",
       "\n",
       "       [[[[[ 5,  6],\n",
       "           [ 6,  7],\n",
       "           [ 7,  8]],\n",
       "\n",
       "          [[ 6,  7],\n",
       "           [ 7,  8],\n",
       "           [ 8,  9]],\n",
       "\n",
       "          [[ 7,  8],\n",
       "           [ 8,  9],\n",
       "           [ 9, 10]],\n",
       "\n",
       "          [[ 8,  9],\n",
       "           [ 9, 10],\n",
       "           [10, 11]]],\n",
       "\n",
       "\n",
       "         [[[ 6,  7],\n",
       "           [ 7,  8],\n",
       "           [ 8,  9]],\n",
       "\n",
       "          [[ 7,  8],\n",
       "           [ 8,  9],\n",
       "           [ 9, 10]],\n",
       "\n",
       "          [[ 8,  9],\n",
       "           [ 9, 10],\n",
       "           [10, 11]],\n",
       "\n",
       "          [[ 9, 10],\n",
       "           [10, 11],\n",
       "           [11, 12]]],\n",
       "\n",
       "\n",
       "         [[[ 7,  8],\n",
       "           [ 8,  9],\n",
       "           [ 9, 10]],\n",
       "\n",
       "          [[ 8,  9],\n",
       "           [ 9, 10],\n",
       "           [10, 11]],\n",
       "\n",
       "          [[ 9, 10],\n",
       "           [10, 11],\n",
       "           [11, 12]],\n",
       "\n",
       "          [[10, 11],\n",
       "           [11, 12],\n",
       "           [12, 13]]],\n",
       "\n",
       "\n",
       "         [[[ 8,  9],\n",
       "           [ 9, 10],\n",
       "           [10, 11]],\n",
       "\n",
       "          [[ 9, 10],\n",
       "           [10, 11],\n",
       "           [11, 12]],\n",
       "\n",
       "          [[10, 11],\n",
       "           [11, 12],\n",
       "           [12, 13]],\n",
       "\n",
       "          [[11, 12],\n",
       "           [12, 13],\n",
       "           [13, 14]]],\n",
       "\n",
       "\n",
       "         [[[ 9, 10],\n",
       "           [10, 11],\n",
       "           [11, 12]],\n",
       "\n",
       "          [[10, 11],\n",
       "           [11, 12],\n",
       "           [12, 13]],\n",
       "\n",
       "          [[11, 12],\n",
       "           [12, 13],\n",
       "           [13, 14]],\n",
       "\n",
       "          [[12, 13],\n",
       "           [13, 14],\n",
       "           [14, 15]]]],\n",
       "\n",
       "\n",
       "\n",
       "        [[[[ 6,  7],\n",
       "           [ 7,  8],\n",
       "           [ 8,  9]],\n",
       "\n",
       "          [[ 7,  8],\n",
       "           [ 8,  9],\n",
       "           [ 9, 10]],\n",
       "\n",
       "          [[ 8,  9],\n",
       "           [ 9, 10],\n",
       "           [10, 11]],\n",
       "\n",
       "          [[ 9, 10],\n",
       "           [10, 11],\n",
       "           [11, 12]]],\n",
       "\n",
       "\n",
       "         [[[ 7,  8],\n",
       "           [ 8,  9],\n",
       "           [ 9, 10]],\n",
       "\n",
       "          [[ 8,  9],\n",
       "           [ 9, 10],\n",
       "           [10, 11]],\n",
       "\n",
       "          [[ 9, 10],\n",
       "           [10, 11],\n",
       "           [11, 12]],\n",
       "\n",
       "          [[10, 11],\n",
       "           [11, 12],\n",
       "           [12, 13]]],\n",
       "\n",
       "\n",
       "         [[[ 8,  9],\n",
       "           [ 9, 10],\n",
       "           [10, 11]],\n",
       "\n",
       "          [[ 9, 10],\n",
       "           [10, 11],\n",
       "           [11, 12]],\n",
       "\n",
       "          [[10, 11],\n",
       "           [11, 12],\n",
       "           [12, 13]],\n",
       "\n",
       "          [[11, 12],\n",
       "           [12, 13],\n",
       "           [13, 14]]],\n",
       "\n",
       "\n",
       "         [[[ 9, 10],\n",
       "           [10, 11],\n",
       "           [11, 12]],\n",
       "\n",
       "          [[10, 11],\n",
       "           [11, 12],\n",
       "           [12, 13]],\n",
       "\n",
       "          [[11, 12],\n",
       "           [12, 13],\n",
       "           [13, 14]],\n",
       "\n",
       "          [[12, 13],\n",
       "           [13, 14],\n",
       "           [14, 15]]],\n",
       "\n",
       "\n",
       "         [[[10, 11],\n",
       "           [11, 12],\n",
       "           [12, 13]],\n",
       "\n",
       "          [[11, 12],\n",
       "           [12, 13],\n",
       "           [13, 14]],\n",
       "\n",
       "          [[12, 13],\n",
       "           [13, 14],\n",
       "           [14, 15]],\n",
       "\n",
       "          [[13, 14],\n",
       "           [14, 15],\n",
       "           [15, 16]]]],\n",
       "\n",
       "\n",
       "\n",
       "        [[[[ 7,  8],\n",
       "           [ 8,  9],\n",
       "           [ 9, 10]],\n",
       "\n",
       "          [[ 8,  9],\n",
       "           [ 9, 10],\n",
       "           [10, 11]],\n",
       "\n",
       "          [[ 9, 10],\n",
       "           [10, 11],\n",
       "           [11, 12]],\n",
       "\n",
       "          [[10, 11],\n",
       "           [11, 12],\n",
       "           [12, 13]]],\n",
       "\n",
       "\n",
       "         [[[ 8,  9],\n",
       "           [ 9, 10],\n",
       "           [10, 11]],\n",
       "\n",
       "          [[ 9, 10],\n",
       "           [10, 11],\n",
       "           [11, 12]],\n",
       "\n",
       "          [[10, 11],\n",
       "           [11, 12],\n",
       "           [12, 13]],\n",
       "\n",
       "          [[11, 12],\n",
       "           [12, 13],\n",
       "           [13, 14]]],\n",
       "\n",
       "\n",
       "         [[[ 9, 10],\n",
       "           [10, 11],\n",
       "           [11, 12]],\n",
       "\n",
       "          [[10, 11],\n",
       "           [11, 12],\n",
       "           [12, 13]],\n",
       "\n",
       "          [[11, 12],\n",
       "           [12, 13],\n",
       "           [13, 14]],\n",
       "\n",
       "          [[12, 13],\n",
       "           [13, 14],\n",
       "           [14, 15]]],\n",
       "\n",
       "\n",
       "         [[[10, 11],\n",
       "           [11, 12],\n",
       "           [12, 13]],\n",
       "\n",
       "          [[11, 12],\n",
       "           [12, 13],\n",
       "           [13, 14]],\n",
       "\n",
       "          [[12, 13],\n",
       "           [13, 14],\n",
       "           [14, 15]],\n",
       "\n",
       "          [[13, 14],\n",
       "           [14, 15],\n",
       "           [15, 16]]],\n",
       "\n",
       "\n",
       "         [[[11, 12],\n",
       "           [12, 13],\n",
       "           [13, 14]],\n",
       "\n",
       "          [[12, 13],\n",
       "           [13, 14],\n",
       "           [14, 15]],\n",
       "\n",
       "          [[13, 14],\n",
       "           [14, 15],\n",
       "           [15, 16]],\n",
       "\n",
       "          [[14, 15],\n",
       "           [15, 16],\n",
       "           [16, 17]]]],\n",
       "\n",
       "\n",
       "\n",
       "        [[[[ 8,  9],\n",
       "           [ 9, 10],\n",
       "           [10, 11]],\n",
       "\n",
       "          [[ 9, 10],\n",
       "           [10, 11],\n",
       "           [11, 12]],\n",
       "\n",
       "          [[10, 11],\n",
       "           [11, 12],\n",
       "           [12, 13]],\n",
       "\n",
       "          [[11, 12],\n",
       "           [12, 13],\n",
       "           [13, 14]]],\n",
       "\n",
       "\n",
       "         [[[ 9, 10],\n",
       "           [10, 11],\n",
       "           [11, 12]],\n",
       "\n",
       "          [[10, 11],\n",
       "           [11, 12],\n",
       "           [12, 13]],\n",
       "\n",
       "          [[11, 12],\n",
       "           [12, 13],\n",
       "           [13, 14]],\n",
       "\n",
       "          [[12, 13],\n",
       "           [13, 14],\n",
       "           [14, 15]]],\n",
       "\n",
       "\n",
       "         [[[10, 11],\n",
       "           [11, 12],\n",
       "           [12, 13]],\n",
       "\n",
       "          [[11, 12],\n",
       "           [12, 13],\n",
       "           [13, 14]],\n",
       "\n",
       "          [[12, 13],\n",
       "           [13, 14],\n",
       "           [14, 15]],\n",
       "\n",
       "          [[13, 14],\n",
       "           [14, 15],\n",
       "           [15, 16]]],\n",
       "\n",
       "\n",
       "         [[[11, 12],\n",
       "           [12, 13],\n",
       "           [13, 14]],\n",
       "\n",
       "          [[12, 13],\n",
       "           [13, 14],\n",
       "           [14, 15]],\n",
       "\n",
       "          [[13, 14],\n",
       "           [14, 15],\n",
       "           [15, 16]],\n",
       "\n",
       "          [[14, 15],\n",
       "           [15, 16],\n",
       "           [16, 17]]],\n",
       "\n",
       "\n",
       "         [[[12, 13],\n",
       "           [13, 14],\n",
       "           [14, 15]],\n",
       "\n",
       "          [[13, 14],\n",
       "           [14, 15],\n",
       "           [15, 16]],\n",
       "\n",
       "          [[14, 15],\n",
       "           [15, 16],\n",
       "           [16, 17]],\n",
       "\n",
       "          [[15, 16],\n",
       "           [16, 17],\n",
       "           [17, 18]]]],\n",
       "\n",
       "\n",
       "\n",
       "        [[[[ 9, 10],\n",
       "           [10, 11],\n",
       "           [11, 12]],\n",
       "\n",
       "          [[10, 11],\n",
       "           [11, 12],\n",
       "           [12, 13]],\n",
       "\n",
       "          [[11, 12],\n",
       "           [12, 13],\n",
       "           [13, 14]],\n",
       "\n",
       "          [[12, 13],\n",
       "           [13, 14],\n",
       "           [14, 15]]],\n",
       "\n",
       "\n",
       "         [[[10, 11],\n",
       "           [11, 12],\n",
       "           [12, 13]],\n",
       "\n",
       "          [[11, 12],\n",
       "           [12, 13],\n",
       "           [13, 14]],\n",
       "\n",
       "          [[12, 13],\n",
       "           [13, 14],\n",
       "           [14, 15]],\n",
       "\n",
       "          [[13, 14],\n",
       "           [14, 15],\n",
       "           [15, 16]]],\n",
       "\n",
       "\n",
       "         [[[11, 12],\n",
       "           [12, 13],\n",
       "           [13, 14]],\n",
       "\n",
       "          [[12, 13],\n",
       "           [13, 14],\n",
       "           [14, 15]],\n",
       "\n",
       "          [[13, 14],\n",
       "           [14, 15],\n",
       "           [15, 16]],\n",
       "\n",
       "          [[14, 15],\n",
       "           [15, 16],\n",
       "           [16, 17]]],\n",
       "\n",
       "\n",
       "         [[[12, 13],\n",
       "           [13, 14],\n",
       "           [14, 15]],\n",
       "\n",
       "          [[13, 14],\n",
       "           [14, 15],\n",
       "           [15, 16]],\n",
       "\n",
       "          [[14, 15],\n",
       "           [15, 16],\n",
       "           [16, 17]],\n",
       "\n",
       "          [[15, 16],\n",
       "           [16, 17],\n",
       "           [17, 18]]],\n",
       "\n",
       "\n",
       "         [[[13, 14],\n",
       "           [14, 15],\n",
       "           [15, 16]],\n",
       "\n",
       "          [[14, 15],\n",
       "           [15, 16],\n",
       "           [16, 17]],\n",
       "\n",
       "          [[15, 16],\n",
       "           [16, 17],\n",
       "           [17, 18]],\n",
       "\n",
       "          [[16, 17],\n",
       "           [17, 18],\n",
       "           [18, 19]]]],\n",
       "\n",
       "\n",
       "\n",
       "        [[[[10, 11],\n",
       "           [11, 12],\n",
       "           [12, 13]],\n",
       "\n",
       "          [[11, 12],\n",
       "           [12, 13],\n",
       "           [13, 14]],\n",
       "\n",
       "          [[12, 13],\n",
       "           [13, 14],\n",
       "           [14, 15]],\n",
       "\n",
       "          [[13, 14],\n",
       "           [14, 15],\n",
       "           [15, 16]]],\n",
       "\n",
       "\n",
       "         [[[11, 12],\n",
       "           [12, 13],\n",
       "           [13, 14]],\n",
       "\n",
       "          [[12, 13],\n",
       "           [13, 14],\n",
       "           [14, 15]],\n",
       "\n",
       "          [[13, 14],\n",
       "           [14, 15],\n",
       "           [15, 16]],\n",
       "\n",
       "          [[14, 15],\n",
       "           [15, 16],\n",
       "           [16, 17]]],\n",
       "\n",
       "\n",
       "         [[[12, 13],\n",
       "           [13, 14],\n",
       "           [14, 15]],\n",
       "\n",
       "          [[13, 14],\n",
       "           [14, 15],\n",
       "           [15, 16]],\n",
       "\n",
       "          [[14, 15],\n",
       "           [15, 16],\n",
       "           [16, 17]],\n",
       "\n",
       "          [[15, 16],\n",
       "           [16, 17],\n",
       "           [17, 18]]],\n",
       "\n",
       "\n",
       "         [[[13, 14],\n",
       "           [14, 15],\n",
       "           [15, 16]],\n",
       "\n",
       "          [[14, 15],\n",
       "           [15, 16],\n",
       "           [16, 17]],\n",
       "\n",
       "          [[15, 16],\n",
       "           [16, 17],\n",
       "           [17, 18]],\n",
       "\n",
       "          [[16, 17],\n",
       "           [17, 18],\n",
       "           [18, 19]]],\n",
       "\n",
       "\n",
       "         [[[14, 15],\n",
       "           [15, 16],\n",
       "           [16, 17]],\n",
       "\n",
       "          [[15, 16],\n",
       "           [16, 17],\n",
       "           [17, 18]],\n",
       "\n",
       "          [[16, 17],\n",
       "           [17, 18],\n",
       "           [18, 19]],\n",
       "\n",
       "          [[17, 18],\n",
       "           [18, 19],\n",
       "           [19, 20]]]]],\n",
       "\n",
       "\n",
       "\n",
       "\n",
       "       [[[[[ 6,  7],\n",
       "           [ 7,  8],\n",
       "           [ 8,  9]],\n",
       "\n",
       "          [[ 7,  8],\n",
       "           [ 8,  9],\n",
       "           [ 9, 10]],\n",
       "\n",
       "          [[ 8,  9],\n",
       "           [ 9, 10],\n",
       "           [10, 11]],\n",
       "\n",
       "          [[ 9, 10],\n",
       "           [10, 11],\n",
       "           [11, 12]]],\n",
       "\n",
       "\n",
       "         [[[ 7,  8],\n",
       "           [ 8,  9],\n",
       "           [ 9, 10]],\n",
       "\n",
       "          [[ 8,  9],\n",
       "           [ 9, 10],\n",
       "           [10, 11]],\n",
       "\n",
       "          [[ 9, 10],\n",
       "           [10, 11],\n",
       "           [11, 12]],\n",
       "\n",
       "          [[10, 11],\n",
       "           [11, 12],\n",
       "           [12, 13]]],\n",
       "\n",
       "\n",
       "         [[[ 8,  9],\n",
       "           [ 9, 10],\n",
       "           [10, 11]],\n",
       "\n",
       "          [[ 9, 10],\n",
       "           [10, 11],\n",
       "           [11, 12]],\n",
       "\n",
       "          [[10, 11],\n",
       "           [11, 12],\n",
       "           [12, 13]],\n",
       "\n",
       "          [[11, 12],\n",
       "           [12, 13],\n",
       "           [13, 14]]],\n",
       "\n",
       "\n",
       "         [[[ 9, 10],\n",
       "           [10, 11],\n",
       "           [11, 12]],\n",
       "\n",
       "          [[10, 11],\n",
       "           [11, 12],\n",
       "           [12, 13]],\n",
       "\n",
       "          [[11, 12],\n",
       "           [12, 13],\n",
       "           [13, 14]],\n",
       "\n",
       "          [[12, 13],\n",
       "           [13, 14],\n",
       "           [14, 15]]],\n",
       "\n",
       "\n",
       "         [[[10, 11],\n",
       "           [11, 12],\n",
       "           [12, 13]],\n",
       "\n",
       "          [[11, 12],\n",
       "           [12, 13],\n",
       "           [13, 14]],\n",
       "\n",
       "          [[12, 13],\n",
       "           [13, 14],\n",
       "           [14, 15]],\n",
       "\n",
       "          [[13, 14],\n",
       "           [14, 15],\n",
       "           [15, 16]]]],\n",
       "\n",
       "\n",
       "\n",
       "        [[[[ 7,  8],\n",
       "           [ 8,  9],\n",
       "           [ 9, 10]],\n",
       "\n",
       "          [[ 8,  9],\n",
       "           [ 9, 10],\n",
       "           [10, 11]],\n",
       "\n",
       "          [[ 9, 10],\n",
       "           [10, 11],\n",
       "           [11, 12]],\n",
       "\n",
       "          [[10, 11],\n",
       "           [11, 12],\n",
       "           [12, 13]]],\n",
       "\n",
       "\n",
       "         [[[ 8,  9],\n",
       "           [ 9, 10],\n",
       "           [10, 11]],\n",
       "\n",
       "          [[ 9, 10],\n",
       "           [10, 11],\n",
       "           [11, 12]],\n",
       "\n",
       "          [[10, 11],\n",
       "           [11, 12],\n",
       "           [12, 13]],\n",
       "\n",
       "          [[11, 12],\n",
       "           [12, 13],\n",
       "           [13, 14]]],\n",
       "\n",
       "\n",
       "         [[[ 9, 10],\n",
       "           [10, 11],\n",
       "           [11, 12]],\n",
       "\n",
       "          [[10, 11],\n",
       "           [11, 12],\n",
       "           [12, 13]],\n",
       "\n",
       "          [[11, 12],\n",
       "           [12, 13],\n",
       "           [13, 14]],\n",
       "\n",
       "          [[12, 13],\n",
       "           [13, 14],\n",
       "           [14, 15]]],\n",
       "\n",
       "\n",
       "         [[[10, 11],\n",
       "           [11, 12],\n",
       "           [12, 13]],\n",
       "\n",
       "          [[11, 12],\n",
       "           [12, 13],\n",
       "           [13, 14]],\n",
       "\n",
       "          [[12, 13],\n",
       "           [13, 14],\n",
       "           [14, 15]],\n",
       "\n",
       "          [[13, 14],\n",
       "           [14, 15],\n",
       "           [15, 16]]],\n",
       "\n",
       "\n",
       "         [[[11, 12],\n",
       "           [12, 13],\n",
       "           [13, 14]],\n",
       "\n",
       "          [[12, 13],\n",
       "           [13, 14],\n",
       "           [14, 15]],\n",
       "\n",
       "          [[13, 14],\n",
       "           [14, 15],\n",
       "           [15, 16]],\n",
       "\n",
       "          [[14, 15],\n",
       "           [15, 16],\n",
       "           [16, 17]]]],\n",
       "\n",
       "\n",
       "\n",
       "        [[[[ 8,  9],\n",
       "           [ 9, 10],\n",
       "           [10, 11]],\n",
       "\n",
       "          [[ 9, 10],\n",
       "           [10, 11],\n",
       "           [11, 12]],\n",
       "\n",
       "          [[10, 11],\n",
       "           [11, 12],\n",
       "           [12, 13]],\n",
       "\n",
       "          [[11, 12],\n",
       "           [12, 13],\n",
       "           [13, 14]]],\n",
       "\n",
       "\n",
       "         [[[ 9, 10],\n",
       "           [10, 11],\n",
       "           [11, 12]],\n",
       "\n",
       "          [[10, 11],\n",
       "           [11, 12],\n",
       "           [12, 13]],\n",
       "\n",
       "          [[11, 12],\n",
       "           [12, 13],\n",
       "           [13, 14]],\n",
       "\n",
       "          [[12, 13],\n",
       "           [13, 14],\n",
       "           [14, 15]]],\n",
       "\n",
       "\n",
       "         [[[10, 11],\n",
       "           [11, 12],\n",
       "           [12, 13]],\n",
       "\n",
       "          [[11, 12],\n",
       "           [12, 13],\n",
       "           [13, 14]],\n",
       "\n",
       "          [[12, 13],\n",
       "           [13, 14],\n",
       "           [14, 15]],\n",
       "\n",
       "          [[13, 14],\n",
       "           [14, 15],\n",
       "           [15, 16]]],\n",
       "\n",
       "\n",
       "         [[[11, 12],\n",
       "           [12, 13],\n",
       "           [13, 14]],\n",
       "\n",
       "          [[12, 13],\n",
       "           [13, 14],\n",
       "           [14, 15]],\n",
       "\n",
       "          [[13, 14],\n",
       "           [14, 15],\n",
       "           [15, 16]],\n",
       "\n",
       "          [[14, 15],\n",
       "           [15, 16],\n",
       "           [16, 17]]],\n",
       "\n",
       "\n",
       "         [[[12, 13],\n",
       "           [13, 14],\n",
       "           [14, 15]],\n",
       "\n",
       "          [[13, 14],\n",
       "           [14, 15],\n",
       "           [15, 16]],\n",
       "\n",
       "          [[14, 15],\n",
       "           [15, 16],\n",
       "           [16, 17]],\n",
       "\n",
       "          [[15, 16],\n",
       "           [16, 17],\n",
       "           [17, 18]]]],\n",
       "\n",
       "\n",
       "\n",
       "        [[[[ 9, 10],\n",
       "           [10, 11],\n",
       "           [11, 12]],\n",
       "\n",
       "          [[10, 11],\n",
       "           [11, 12],\n",
       "           [12, 13]],\n",
       "\n",
       "          [[11, 12],\n",
       "           [12, 13],\n",
       "           [13, 14]],\n",
       "\n",
       "          [[12, 13],\n",
       "           [13, 14],\n",
       "           [14, 15]]],\n",
       "\n",
       "\n",
       "         [[[10, 11],\n",
       "           [11, 12],\n",
       "           [12, 13]],\n",
       "\n",
       "          [[11, 12],\n",
       "           [12, 13],\n",
       "           [13, 14]],\n",
       "\n",
       "          [[12, 13],\n",
       "           [13, 14],\n",
       "           [14, 15]],\n",
       "\n",
       "          [[13, 14],\n",
       "           [14, 15],\n",
       "           [15, 16]]],\n",
       "\n",
       "\n",
       "         [[[11, 12],\n",
       "           [12, 13],\n",
       "           [13, 14]],\n",
       "\n",
       "          [[12, 13],\n",
       "           [13, 14],\n",
       "           [14, 15]],\n",
       "\n",
       "          [[13, 14],\n",
       "           [14, 15],\n",
       "           [15, 16]],\n",
       "\n",
       "          [[14, 15],\n",
       "           [15, 16],\n",
       "           [16, 17]]],\n",
       "\n",
       "\n",
       "         [[[12, 13],\n",
       "           [13, 14],\n",
       "           [14, 15]],\n",
       "\n",
       "          [[13, 14],\n",
       "           [14, 15],\n",
       "           [15, 16]],\n",
       "\n",
       "          [[14, 15],\n",
       "           [15, 16],\n",
       "           [16, 17]],\n",
       "\n",
       "          [[15, 16],\n",
       "           [16, 17],\n",
       "           [17, 18]]],\n",
       "\n",
       "\n",
       "         [[[13, 14],\n",
       "           [14, 15],\n",
       "           [15, 16]],\n",
       "\n",
       "          [[14, 15],\n",
       "           [15, 16],\n",
       "           [16, 17]],\n",
       "\n",
       "          [[15, 16],\n",
       "           [16, 17],\n",
       "           [17, 18]],\n",
       "\n",
       "          [[16, 17],\n",
       "           [17, 18],\n",
       "           [18, 19]]]],\n",
       "\n",
       "\n",
       "\n",
       "        [[[[10, 11],\n",
       "           [11, 12],\n",
       "           [12, 13]],\n",
       "\n",
       "          [[11, 12],\n",
       "           [12, 13],\n",
       "           [13, 14]],\n",
       "\n",
       "          [[12, 13],\n",
       "           [13, 14],\n",
       "           [14, 15]],\n",
       "\n",
       "          [[13, 14],\n",
       "           [14, 15],\n",
       "           [15, 16]]],\n",
       "\n",
       "\n",
       "         [[[11, 12],\n",
       "           [12, 13],\n",
       "           [13, 14]],\n",
       "\n",
       "          [[12, 13],\n",
       "           [13, 14],\n",
       "           [14, 15]],\n",
       "\n",
       "          [[13, 14],\n",
       "           [14, 15],\n",
       "           [15, 16]],\n",
       "\n",
       "          [[14, 15],\n",
       "           [15, 16],\n",
       "           [16, 17]]],\n",
       "\n",
       "\n",
       "         [[[12, 13],\n",
       "           [13, 14],\n",
       "           [14, 15]],\n",
       "\n",
       "          [[13, 14],\n",
       "           [14, 15],\n",
       "           [15, 16]],\n",
       "\n",
       "          [[14, 15],\n",
       "           [15, 16],\n",
       "           [16, 17]],\n",
       "\n",
       "          [[15, 16],\n",
       "           [16, 17],\n",
       "           [17, 18]]],\n",
       "\n",
       "\n",
       "         [[[13, 14],\n",
       "           [14, 15],\n",
       "           [15, 16]],\n",
       "\n",
       "          [[14, 15],\n",
       "           [15, 16],\n",
       "           [16, 17]],\n",
       "\n",
       "          [[15, 16],\n",
       "           [16, 17],\n",
       "           [17, 18]],\n",
       "\n",
       "          [[16, 17],\n",
       "           [17, 18],\n",
       "           [18, 19]]],\n",
       "\n",
       "\n",
       "         [[[14, 15],\n",
       "           [15, 16],\n",
       "           [16, 17]],\n",
       "\n",
       "          [[15, 16],\n",
       "           [16, 17],\n",
       "           [17, 18]],\n",
       "\n",
       "          [[16, 17],\n",
       "           [17, 18],\n",
       "           [18, 19]],\n",
       "\n",
       "          [[17, 18],\n",
       "           [18, 19],\n",
       "           [19, 20]]]],\n",
       "\n",
       "\n",
       "\n",
       "        [[[[11, 12],\n",
       "           [12, 13],\n",
       "           [13, 14]],\n",
       "\n",
       "          [[12, 13],\n",
       "           [13, 14],\n",
       "           [14, 15]],\n",
       "\n",
       "          [[13, 14],\n",
       "           [14, 15],\n",
       "           [15, 16]],\n",
       "\n",
       "          [[14, 15],\n",
       "           [15, 16],\n",
       "           [16, 17]]],\n",
       "\n",
       "\n",
       "         [[[12, 13],\n",
       "           [13, 14],\n",
       "           [14, 15]],\n",
       "\n",
       "          [[13, 14],\n",
       "           [14, 15],\n",
       "           [15, 16]],\n",
       "\n",
       "          [[14, 15],\n",
       "           [15, 16],\n",
       "           [16, 17]],\n",
       "\n",
       "          [[15, 16],\n",
       "           [16, 17],\n",
       "           [17, 18]]],\n",
       "\n",
       "\n",
       "         [[[13, 14],\n",
       "           [14, 15],\n",
       "           [15, 16]],\n",
       "\n",
       "          [[14, 15],\n",
       "           [15, 16],\n",
       "           [16, 17]],\n",
       "\n",
       "          [[15, 16],\n",
       "           [16, 17],\n",
       "           [17, 18]],\n",
       "\n",
       "          [[16, 17],\n",
       "           [17, 18],\n",
       "           [18, 19]]],\n",
       "\n",
       "\n",
       "         [[[14, 15],\n",
       "           [15, 16],\n",
       "           [16, 17]],\n",
       "\n",
       "          [[15, 16],\n",
       "           [16, 17],\n",
       "           [17, 18]],\n",
       "\n",
       "          [[16, 17],\n",
       "           [17, 18],\n",
       "           [18, 19]],\n",
       "\n",
       "          [[17, 18],\n",
       "           [18, 19],\n",
       "           [19, 20]]],\n",
       "\n",
       "\n",
       "         [[[15, 16],\n",
       "           [16, 17],\n",
       "           [17, 18]],\n",
       "\n",
       "          [[16, 17],\n",
       "           [17, 18],\n",
       "           [18, 19]],\n",
       "\n",
       "          [[17, 18],\n",
       "           [18, 19],\n",
       "           [19, 20]],\n",
       "\n",
       "          [[18, 19],\n",
       "           [19, 20],\n",
       "           [20, 21]]]]]])"
      ]
     },
     "execution_count": 65,
     "metadata": {},
     "output_type": "execute_result"
    }
   ],
   "source": [
    "# It's dimension would be 6. We'll get to know this by the total number of elements we have provided in a tuple separated by \n",
    "# commas like (7, 6, 5, 4, 3, 2)\n",
    "l4 = np.fromfunction(lambda i, j, k, l, m, n: i + j + k + l + m + n, (7, 6, 5, 4, 3, 2), dtype = int)\n",
    "l4"
   ]
  },
  {
   "cell_type": "code",
   "execution_count": 66,
   "id": "ac4d461d",
   "metadata": {},
   "outputs": [
    {
     "data": {
      "text/plain": [
       "6"
      ]
     },
     "execution_count": 66,
     "metadata": {},
     "output_type": "execute_result"
    }
   ],
   "source": [
    "np.ndim(l4)"
   ]
  },
  {
   "cell_type": "code",
   "execution_count": 68,
   "id": "b3fd3a49",
   "metadata": {},
   "outputs": [
    {
     "data": {
      "text/plain": [
       "[3, 4, 5, 6, 7]"
      ]
     },
     "execution_count": 68,
     "metadata": {},
     "output_type": "execute_result"
    }
   ],
   "source": [
    "list(range(3, 8))"
   ]
  },
  {
   "cell_type": "code",
   "execution_count": 69,
   "id": "4730f1cc",
   "metadata": {},
   "outputs": [
    {
     "data": {
      "text/plain": [
       "[3, 5, 7]"
      ]
     },
     "execution_count": 69,
     "metadata": {},
     "output_type": "execute_result"
    }
   ],
   "source": [
    "list(range(3, 8, 2))"
   ]
  },
  {
   "cell_type": "code",
   "execution_count": 70,
   "id": "c78a45e6",
   "metadata": {},
   "outputs": [
    {
     "data": {
      "text/plain": [
       "array([3, 4, 5, 6, 7])"
      ]
     },
     "execution_count": 70,
     "metadata": {},
     "output_type": "execute_result"
    }
   ],
   "source": [
    "np.arange(3, 8)"
   ]
  },
  {
   "cell_type": "code",
   "execution_count": 71,
   "id": "19337d9f",
   "metadata": {},
   "outputs": [
    {
     "data": {
      "text/plain": [
       "array([3, 5, 7])"
      ]
     },
     "execution_count": 71,
     "metadata": {},
     "output_type": "execute_result"
    }
   ],
   "source": [
    "np.arange(3, 8, 2)"
   ]
  },
  {
   "cell_type": "markdown",
   "id": "ca22d4b8",
   "metadata": {},
   "source": [
    "range(start, end, step size)\n",
    "\n",
    "np.arange(start, end, step size)\n",
    "\n",
    "np.linspace(start, end, number of data points, endpoint)\n",
    "\n",
    "linspace returns those many data points as you've mentioned but those would be equally spaced and with in the range i.e. start till end.\n",
    "\n",
    "1. range function is available in base python while arange function is available in numpy package.\n",
    "2. the parameters start, end, and step size can take integer or float value in case of arange function while the parameters start, end, and step size can take only integer value in case of range function.\n",
    "3. There is one parameter available in linspace i.e. endpoint. By default it's True. We can make it False as well. Also, this parameter is not available in case of range and arange functions.\n",
    "4. By default starting and ending points are not included in range & arange functions but this is not the case with linspace. in linspace function by default end point is included.\n",
    "5. The data type of the output of the range function is integer alaways. The data type of the output of the arange function can be integer as well as float. The data type of the output of the linspace function is float alaways.\n",
    "\n",
    "list(range(3, 8, 0.5)) This is incorrect."
   ]
  },
  {
   "cell_type": "code",
   "execution_count": 74,
   "id": "b744a13f",
   "metadata": {},
   "outputs": [
    {
     "data": {
      "text/plain": [
       "array([3. , 3.5, 4. , 4.5, 5. , 5.5, 6. , 6.5, 7. , 7.5])"
      ]
     },
     "execution_count": 74,
     "metadata": {},
     "output_type": "execute_result"
    }
   ],
   "source": [
    "np.arange(3, 8, 0.5)"
   ]
  },
  {
   "cell_type": "code",
   "execution_count": 75,
   "id": "1c78780c",
   "metadata": {},
   "outputs": [
    {
     "data": {
      "text/plain": [
       "array([3.        , 3.26315789, 3.52631579, 3.78947368, 4.05263158,\n",
       "       4.31578947, 4.57894737, 4.84210526, 5.10526316, 5.36842105,\n",
       "       5.63157895, 5.89473684, 6.15789474, 6.42105263, 6.68421053,\n",
       "       6.94736842, 7.21052632, 7.47368421, 7.73684211, 8.        ])"
      ]
     },
     "execution_count": 75,
     "metadata": {},
     "output_type": "execute_result"
    }
   ],
   "source": [
    "np.linspace(3, 8, 20)"
   ]
  },
  {
   "cell_type": "code",
   "execution_count": 76,
   "id": "4d7437b2",
   "metadata": {},
   "outputs": [
    {
     "data": {
      "text/plain": [
       "array([3.  , 3.25, 3.5 , 3.75, 4.  , 4.25, 4.5 , 4.75, 5.  , 5.25, 5.5 ,\n",
       "       5.75, 6.  , 6.25, 6.5 , 6.75, 7.  , 7.25, 7.5 , 7.75])"
      ]
     },
     "execution_count": 76,
     "metadata": {},
     "output_type": "execute_result"
    }
   ],
   "source": [
    "np.linspace(3, 8, 20, endpoint=False)"
   ]
  },
  {
   "cell_type": "code",
   "execution_count": 50,
   "id": "4d5998f4",
   "metadata": {},
   "outputs": [
    {
     "data": {
      "text/plain": [
       "array([[ 2.        ,  4.        ],\n",
       "       [ 2.16326531,  4.12244898],\n",
       "       [ 2.32653061,  4.24489796],\n",
       "       [ 2.48979592,  4.36734694],\n",
       "       [ 2.65306122,  4.48979592],\n",
       "       [ 2.81632653,  4.6122449 ],\n",
       "       [ 2.97959184,  4.73469388],\n",
       "       [ 3.14285714,  4.85714286],\n",
       "       [ 3.30612245,  4.97959184],\n",
       "       [ 3.46938776,  5.10204082],\n",
       "       [ 3.63265306,  5.2244898 ],\n",
       "       [ 3.79591837,  5.34693878],\n",
       "       [ 3.95918367,  5.46938776],\n",
       "       [ 4.12244898,  5.59183673],\n",
       "       [ 4.28571429,  5.71428571],\n",
       "       [ 4.44897959,  5.83673469],\n",
       "       [ 4.6122449 ,  5.95918367],\n",
       "       [ 4.7755102 ,  6.08163265],\n",
       "       [ 4.93877551,  6.20408163],\n",
       "       [ 5.10204082,  6.32653061],\n",
       "       [ 5.26530612,  6.44897959],\n",
       "       [ 5.42857143,  6.57142857],\n",
       "       [ 5.59183673,  6.69387755],\n",
       "       [ 5.75510204,  6.81632653],\n",
       "       [ 5.91836735,  6.93877551],\n",
       "       [ 6.08163265,  7.06122449],\n",
       "       [ 6.24489796,  7.18367347],\n",
       "       [ 6.40816327,  7.30612245],\n",
       "       [ 6.57142857,  7.42857143],\n",
       "       [ 6.73469388,  7.55102041],\n",
       "       [ 6.89795918,  7.67346939],\n",
       "       [ 7.06122449,  7.79591837],\n",
       "       [ 7.2244898 ,  7.91836735],\n",
       "       [ 7.3877551 ,  8.04081633],\n",
       "       [ 7.55102041,  8.16326531],\n",
       "       [ 7.71428571,  8.28571429],\n",
       "       [ 7.87755102,  8.40816327],\n",
       "       [ 8.04081633,  8.53061224],\n",
       "       [ 8.20408163,  8.65306122],\n",
       "       [ 8.36734694,  8.7755102 ],\n",
       "       [ 8.53061224,  8.89795918],\n",
       "       [ 8.69387755,  9.02040816],\n",
       "       [ 8.85714286,  9.14285714],\n",
       "       [ 9.02040816,  9.26530612],\n",
       "       [ 9.18367347,  9.3877551 ],\n",
       "       [ 9.34693878,  9.51020408],\n",
       "       [ 9.51020408,  9.63265306],\n",
       "       [ 9.67346939,  9.75510204],\n",
       "       [ 9.83673469,  9.87755102],\n",
       "       [10.        , 10.        ]])"
      ]
     },
     "execution_count": 50,
     "metadata": {},
     "output_type": "execute_result"
    }
   ],
   "source": [
    "# It'll create a 2D array with 50 data points each b/w 2 to 10 and 4 to 10\n",
    "np.linspace([2, 4], 10)"
   ]
  },
  {
   "cell_type": "code",
   "execution_count": 51,
   "id": "e173a8c2",
   "metadata": {},
   "outputs": [
    {
     "data": {
      "text/plain": [
       "array([[ 2.        ,  2.16326531,  2.32653061,  2.48979592,  2.65306122,\n",
       "         2.81632653,  2.97959184,  3.14285714,  3.30612245,  3.46938776,\n",
       "         3.63265306,  3.79591837,  3.95918367,  4.12244898,  4.28571429,\n",
       "         4.44897959,  4.6122449 ,  4.7755102 ,  4.93877551,  5.10204082,\n",
       "         5.26530612,  5.42857143,  5.59183673,  5.75510204,  5.91836735,\n",
       "         6.08163265,  6.24489796,  6.40816327,  6.57142857,  6.73469388,\n",
       "         6.89795918,  7.06122449,  7.2244898 ,  7.3877551 ,  7.55102041,\n",
       "         7.71428571,  7.87755102,  8.04081633,  8.20408163,  8.36734694,\n",
       "         8.53061224,  8.69387755,  8.85714286,  9.02040816,  9.18367347,\n",
       "         9.34693878,  9.51020408,  9.67346939,  9.83673469, 10.        ],\n",
       "       [ 4.        ,  4.12244898,  4.24489796,  4.36734694,  4.48979592,\n",
       "         4.6122449 ,  4.73469388,  4.85714286,  4.97959184,  5.10204082,\n",
       "         5.2244898 ,  5.34693878,  5.46938776,  5.59183673,  5.71428571,\n",
       "         5.83673469,  5.95918367,  6.08163265,  6.20408163,  6.32653061,\n",
       "         6.44897959,  6.57142857,  6.69387755,  6.81632653,  6.93877551,\n",
       "         7.06122449,  7.18367347,  7.30612245,  7.42857143,  7.55102041,\n",
       "         7.67346939,  7.79591837,  7.91836735,  8.04081633,  8.16326531,\n",
       "         8.28571429,  8.40816327,  8.53061224,  8.65306122,  8.7755102 ,\n",
       "         8.89795918,  9.02040816,  9.14285714,  9.26530612,  9.3877551 ,\n",
       "         9.51020408,  9.63265306,  9.75510204,  9.87755102, 10.        ]])"
      ]
     },
     "execution_count": 51,
     "metadata": {},
     "output_type": "execute_result"
    }
   ],
   "source": [
    "# It'll transpose the data\n",
    "np.linspace([2, 4], 10, axis = 1)"
   ]
  },
  {
   "cell_type": "code",
   "execution_count": 78,
   "id": "3f102a81",
   "metadata": {},
   "outputs": [
    {
     "data": {
      "text/plain": [
       "array([3, 5, 7])"
      ]
     },
     "execution_count": 78,
     "metadata": {},
     "output_type": "execute_result"
    }
   ],
   "source": [
    "np.arange(3, 8, 2)"
   ]
  },
  {
   "cell_type": "code",
   "execution_count": 79,
   "id": "183aa04c",
   "metadata": {},
   "outputs": [
    {
     "data": {
      "text/plain": [
       "array([3., 8.])"
      ]
     },
     "execution_count": 79,
     "metadata": {},
     "output_type": "execute_result"
    }
   ],
   "source": [
    "np.linspace(3, 8, 2)"
   ]
  },
  {
   "cell_type": "code",
   "execution_count": 80,
   "id": "fa398b56",
   "metadata": {},
   "outputs": [
    {
     "data": {
      "text/plain": [
       "array([1.00000000e+02, 4.64158883e+03, 2.15443469e+05, 1.00000000e+07])"
      ]
     },
     "execution_count": 80,
     "metadata": {},
     "output_type": "execute_result"
    }
   ],
   "source": [
    "np.logspace(2, 7, num = 4)"
   ]
  },
  {
   "cell_type": "code",
   "execution_count": 81,
   "id": "d02c175d",
   "metadata": {},
   "outputs": [
    {
     "data": {
      "text/plain": [
       "array([  4.        ,  12.69920842,  40.3174736 , 128.        ])"
      ]
     },
     "execution_count": 81,
     "metadata": {},
     "output_type": "execute_result"
    }
   ],
   "source": [
    "np.logspace(2, 7, num = 4, base = 2.0)"
   ]
  },
  {
   "cell_type": "code",
   "execution_count": 86,
   "id": "5a852203",
   "metadata": {},
   "outputs": [
    {
     "data": {
      "text/plain": [
       "array([[[0., 0., 0., 0., 0., 0., 0., 0.],\n",
       "        [0., 0., 0., 0., 0., 0., 0., 0.],\n",
       "        [0., 0., 0., 0., 0., 0., 0., 0.],\n",
       "        [0., 0., 0., 0., 0., 0., 0., 0.]],\n",
       "\n",
       "       [[0., 0., 0., 0., 0., 0., 0., 0.],\n",
       "        [0., 0., 0., 0., 0., 0., 0., 0.],\n",
       "        [0., 0., 0., 0., 0., 0., 0., 0.],\n",
       "        [0., 0., 0., 0., 0., 0., 0., 0.]],\n",
       "\n",
       "       [[0., 0., 0., 0., 0., 0., 0., 0.],\n",
       "        [0., 0., 0., 0., 0., 0., 0., 0.],\n",
       "        [0., 0., 0., 0., 0., 0., 0., 0.],\n",
       "        [0., 0., 0., 0., 0., 0., 0., 0.]]])"
      ]
     },
     "execution_count": 86,
     "metadata": {},
     "output_type": "execute_result"
    }
   ],
   "source": [
    "np.zeros((3, 4, 8))"
   ]
  },
  {
   "cell_type": "code",
   "execution_count": 87,
   "id": "7759d8a2",
   "metadata": {},
   "outputs": [
    {
     "data": {
      "text/plain": [
       "array([[[5., 5., 5., 5., 5., 5., 5., 5.],\n",
       "        [5., 5., 5., 5., 5., 5., 5., 5.],\n",
       "        [5., 5., 5., 5., 5., 5., 5., 5.],\n",
       "        [5., 5., 5., 5., 5., 5., 5., 5.]],\n",
       "\n",
       "       [[5., 5., 5., 5., 5., 5., 5., 5.],\n",
       "        [5., 5., 5., 5., 5., 5., 5., 5.],\n",
       "        [5., 5., 5., 5., 5., 5., 5., 5.],\n",
       "        [5., 5., 5., 5., 5., 5., 5., 5.]],\n",
       "\n",
       "       [[5., 5., 5., 5., 5., 5., 5., 5.],\n",
       "        [5., 5., 5., 5., 5., 5., 5., 5.],\n",
       "        [5., 5., 5., 5., 5., 5., 5., 5.],\n",
       "        [5., 5., 5., 5., 5., 5., 5., 5.]]])"
      ]
     },
     "execution_count": 87,
     "metadata": {},
     "output_type": "execute_result"
    }
   ],
   "source": [
    "np.zeros((3, 4, 8)) + 5"
   ]
  },
  {
   "cell_type": "code",
   "execution_count": 88,
   "id": "6ff35d62",
   "metadata": {},
   "outputs": [
    {
     "data": {
      "text/plain": [
       "array([[[0., 0., 0., 0., 0., 0., 0., 0.],\n",
       "        [0., 0., 0., 0., 0., 0., 0., 0.],\n",
       "        [0., 0., 0., 0., 0., 0., 0., 0.],\n",
       "        [0., 0., 0., 0., 0., 0., 0., 0.]],\n",
       "\n",
       "       [[0., 0., 0., 0., 0., 0., 0., 0.],\n",
       "        [0., 0., 0., 0., 0., 0., 0., 0.],\n",
       "        [0., 0., 0., 0., 0., 0., 0., 0.],\n",
       "        [0., 0., 0., 0., 0., 0., 0., 0.]],\n",
       "\n",
       "       [[0., 0., 0., 0., 0., 0., 0., 0.],\n",
       "        [0., 0., 0., 0., 0., 0., 0., 0.],\n",
       "        [0., 0., 0., 0., 0., 0., 0., 0.],\n",
       "        [0., 0., 0., 0., 0., 0., 0., 0.]]])"
      ]
     },
     "execution_count": 88,
     "metadata": {},
     "output_type": "execute_result"
    }
   ],
   "source": [
    "np.zeros((3, 4, 8)) * 2"
   ]
  },
  {
   "cell_type": "code",
   "execution_count": 89,
   "id": "15549ee4",
   "metadata": {},
   "outputs": [
    {
     "data": {
      "text/plain": [
       "array([[[10., 10., 10., 10., 10., 10., 10., 10.],\n",
       "        [10., 10., 10., 10., 10., 10., 10., 10.],\n",
       "        [10., 10., 10., 10., 10., 10., 10., 10.],\n",
       "        [10., 10., 10., 10., 10., 10., 10., 10.]],\n",
       "\n",
       "       [[10., 10., 10., 10., 10., 10., 10., 10.],\n",
       "        [10., 10., 10., 10., 10., 10., 10., 10.],\n",
       "        [10., 10., 10., 10., 10., 10., 10., 10.],\n",
       "        [10., 10., 10., 10., 10., 10., 10., 10.]],\n",
       "\n",
       "       [[10., 10., 10., 10., 10., 10., 10., 10.],\n",
       "        [10., 10., 10., 10., 10., 10., 10., 10.],\n",
       "        [10., 10., 10., 10., 10., 10., 10., 10.],\n",
       "        [10., 10., 10., 10., 10., 10., 10., 10.]]])"
      ]
     },
     "execution_count": 89,
     "metadata": {},
     "output_type": "execute_result"
    }
   ],
   "source": [
    "np.zeros((3, 4, 8)) + 5 * 2"
   ]
  },
  {
   "cell_type": "code",
   "execution_count": 106,
   "id": "2872f7c3",
   "metadata": {},
   "outputs": [
    {
     "data": {
      "text/plain": [
       "array([[[10., 10., 10., 10., 10., 10., 10., 10.],\n",
       "        [10., 10., 10., 10., 10., 10., 10., 10.],\n",
       "        [10., 10., 10., 10., 10., 10., 10., 10.],\n",
       "        [10., 10., 10., 10., 10., 10., 10., 10.]],\n",
       "\n",
       "       [[10., 10., 10., 10., 10., 10., 10., 10.],\n",
       "        [10., 10., 10., 10., 10., 10., 10., 10.],\n",
       "        [10., 10., 10., 10., 10., 10., 10., 10.],\n",
       "        [10., 10., 10., 10., 10., 10., 10., 10.]],\n",
       "\n",
       "       [[10., 10., 10., 10., 10., 10., 10., 10.],\n",
       "        [10., 10., 10., 10., 10., 10., 10., 10.],\n",
       "        [10., 10., 10., 10., 10., 10., 10., 10.],\n",
       "        [10., 10., 10., 10., 10., 10., 10., 10.]]])"
      ]
     },
     "execution_count": 106,
     "metadata": {},
     "output_type": "execute_result"
    }
   ],
   "source": [
    "(np.zeros((3, 4, 8)) + 5) * 2"
   ]
  },
  {
   "cell_type": "code",
   "execution_count": 90,
   "id": "263eb2ac",
   "metadata": {},
   "outputs": [
    {
     "data": {
      "text/plain": [
       "array([4.        , 4.05063291, 4.10126582, 4.15189873, 4.20253165,\n",
       "       4.25316456, 4.30379747, 4.35443038, 4.40506329, 4.4556962 ,\n",
       "       4.50632911, 4.55696203, 4.60759494, 4.65822785, 4.70886076,\n",
       "       4.75949367, 4.81012658, 4.86075949, 4.91139241, 4.96202532,\n",
       "       5.01265823, 5.06329114, 5.11392405, 5.16455696, 5.21518987,\n",
       "       5.26582278, 5.3164557 , 5.36708861, 5.41772152, 5.46835443,\n",
       "       5.51898734, 5.56962025, 5.62025316, 5.67088608, 5.72151899,\n",
       "       5.7721519 , 5.82278481, 5.87341772, 5.92405063, 5.97468354,\n",
       "       6.02531646, 6.07594937, 6.12658228, 6.17721519, 6.2278481 ,\n",
       "       6.27848101, 6.32911392, 6.37974684, 6.43037975, 6.48101266,\n",
       "       6.53164557, 6.58227848, 6.63291139, 6.6835443 , 6.73417722,\n",
       "       6.78481013, 6.83544304, 6.88607595, 6.93670886, 6.98734177,\n",
       "       7.03797468, 7.08860759, 7.13924051, 7.18987342, 7.24050633,\n",
       "       7.29113924, 7.34177215, 7.39240506, 7.44303797, 7.49367089,\n",
       "       7.5443038 , 7.59493671, 7.64556962, 7.69620253, 7.74683544,\n",
       "       7.79746835, 7.84810127, 7.89873418, 7.94936709, 8.        ])"
      ]
     },
     "execution_count": 90,
     "metadata": {},
     "output_type": "execute_result"
    }
   ],
   "source": [
    "np.linspace(4, 8, 80)"
   ]
  },
  {
   "cell_type": "code",
   "execution_count": 91,
   "id": "36403859",
   "metadata": {},
   "outputs": [
    {
     "data": {
      "text/plain": [
       "matrix([[3. , 4. , 6. ],\n",
       "        [7. , 8. , 9.4]])"
      ]
     },
     "execution_count": 91,
     "metadata": {},
     "output_type": "execute_result"
    }
   ],
   "source": [
    "np.matrix([[3, 4, 6], [7, 8, 9.4]])"
   ]
  },
  {
   "cell_type": "code",
   "execution_count": 94,
   "id": "6ced3474",
   "metadata": {},
   "outputs": [
    {
     "data": {
      "text/plain": [
       "array([[[1., 1.],\n",
       "        [1., 1.],\n",
       "        [1., 1.],\n",
       "        [1., 1.],\n",
       "        [1., 1.]],\n",
       "\n",
       "       [[1., 1.],\n",
       "        [1., 1.],\n",
       "        [1., 1.],\n",
       "        [1., 1.],\n",
       "        [1., 1.]],\n",
       "\n",
       "       [[1., 1.],\n",
       "        [1., 1.],\n",
       "        [1., 1.],\n",
       "        [1., 1.],\n",
       "        [1., 1.]],\n",
       "\n",
       "       [[1., 1.],\n",
       "        [1., 1.],\n",
       "        [1., 1.],\n",
       "        [1., 1.],\n",
       "        [1., 1.]]])"
      ]
     },
     "execution_count": 94,
     "metadata": {},
     "output_type": "execute_result"
    }
   ],
   "source": [
    "x = np.ones((4, 5, 2))\n",
    "x"
   ]
  },
  {
   "cell_type": "code",
   "execution_count": 95,
   "id": "585a921e",
   "metadata": {},
   "outputs": [
    {
     "data": {
      "text/plain": [
       "3"
      ]
     },
     "execution_count": 95,
     "metadata": {},
     "output_type": "execute_result"
    }
   ],
   "source": [
    "np.ndim(x)"
   ]
  },
  {
   "cell_type": "code",
   "execution_count": 96,
   "id": "ff39f4de",
   "metadata": {},
   "outputs": [
    {
     "data": {
      "text/plain": [
       "40"
      ]
     },
     "execution_count": 96,
     "metadata": {},
     "output_type": "execute_result"
    }
   ],
   "source": [
    "x.size"
   ]
  },
  {
   "cell_type": "code",
   "execution_count": 97,
   "id": "cf84fd42",
   "metadata": {},
   "outputs": [
    {
     "data": {
      "text/plain": [
       "(4, 5, 2)"
      ]
     },
     "execution_count": 97,
     "metadata": {},
     "output_type": "execute_result"
    }
   ],
   "source": [
    "x.shape"
   ]
  },
  {
   "cell_type": "code",
   "execution_count": 98,
   "id": "6b4fd503",
   "metadata": {},
   "outputs": [
    {
     "data": {
      "text/plain": [
       "dtype('float64')"
      ]
     },
     "execution_count": 98,
     "metadata": {},
     "output_type": "execute_result"
    }
   ],
   "source": [
    "x.dtype"
   ]
  },
  {
   "cell_type": "code",
   "execution_count": 100,
   "id": "4e2bb3b9",
   "metadata": {},
   "outputs": [
    {
     "data": {
      "text/plain": [
       "array([[[1., 1.],\n",
       "        [1., 1.],\n",
       "        [1., 1.],\n",
       "        [1., 1.],\n",
       "        [1., 1.]],\n",
       "\n",
       "       [[1., 1.],\n",
       "        [1., 1.],\n",
       "        [1., 1.],\n",
       "        [1., 1.],\n",
       "        [1., 1.]],\n",
       "\n",
       "       [[1., 1.],\n",
       "        [1., 1.],\n",
       "        [1., 1.],\n",
       "        [1., 1.],\n",
       "        [1., 1.]],\n",
       "\n",
       "       [[1., 1.],\n",
       "        [1., 1.],\n",
       "        [1., 1.],\n",
       "        [1., 1.],\n",
       "        [1., 1.]]])"
      ]
     },
     "execution_count": 100,
     "metadata": {},
     "output_type": "execute_result"
    }
   ],
   "source": [
    "y = np.ones((4, 5, 2))\n",
    "y"
   ]
  },
  {
   "cell_type": "code",
   "execution_count": 101,
   "id": "40eb3f66",
   "metadata": {},
   "outputs": [
    {
     "data": {
      "text/plain": [
       "3"
      ]
     },
     "execution_count": 101,
     "metadata": {},
     "output_type": "execute_result"
    }
   ],
   "source": [
    "np.ndim(y)"
   ]
  },
  {
   "cell_type": "code",
   "execution_count": 102,
   "id": "ea6490de",
   "metadata": {},
   "outputs": [
    {
     "data": {
      "text/plain": [
       "40"
      ]
     },
     "execution_count": 102,
     "metadata": {},
     "output_type": "execute_result"
    }
   ],
   "source": [
    "y.size"
   ]
  },
  {
   "cell_type": "code",
   "execution_count": 103,
   "id": "9625e274",
   "metadata": {},
   "outputs": [
    {
     "data": {
      "text/plain": [
       "(4, 5, 2)"
      ]
     },
     "execution_count": 103,
     "metadata": {},
     "output_type": "execute_result"
    }
   ],
   "source": [
    "y.shape"
   ]
  },
  {
   "cell_type": "code",
   "execution_count": 104,
   "id": "725d671c",
   "metadata": {},
   "outputs": [
    {
     "data": {
      "text/plain": [
       "dtype('float64')"
      ]
     },
     "execution_count": 104,
     "metadata": {},
     "output_type": "execute_result"
    }
   ],
   "source": [
    "y.dtype"
   ]
  },
  {
   "cell_type": "code",
   "execution_count": 105,
   "id": "0f006c59",
   "metadata": {},
   "outputs": [
    {
     "data": {
      "text/plain": [
       "array([[[1., 1., 1.],\n",
       "        [1., 1., 1.],\n",
       "        [1., 1., 1.]],\n",
       "\n",
       "       [[1., 1., 1.],\n",
       "        [1., 1., 1.],\n",
       "        [1., 1., 1.]],\n",
       "\n",
       "       [[1., 1., 1.],\n",
       "        [1., 1., 1.],\n",
       "        [1., 1., 1.]]])"
      ]
     },
     "execution_count": 105,
     "metadata": {},
     "output_type": "execute_result"
    }
   ],
   "source": [
    "x1 = np.ones((3, 3, 3))\n",
    "x2 = np.zeros((3, 3, 3))\n",
    "x1+x2"
   ]
  },
  {
   "cell_type": "code",
   "execution_count": 110,
   "id": "79ab3d77",
   "metadata": {},
   "outputs": [
    {
     "data": {
      "text/plain": [
       "array([ 0,  1,  2,  3,  4,  5,  6,  7,  8,  9, 10, 11, 12, 13, 14, 15])"
      ]
     },
     "execution_count": 110,
     "metadata": {},
     "output_type": "execute_result"
    }
   ],
   "source": [
    "z = np.arange(16)\n",
    "z"
   ]
  },
  {
   "cell_type": "code",
   "execution_count": 111,
   "id": "9d62e89d",
   "metadata": {},
   "outputs": [
    {
     "data": {
      "text/plain": [
       "1"
      ]
     },
     "execution_count": 111,
     "metadata": {},
     "output_type": "execute_result"
    }
   ],
   "source": [
    "z.ndim"
   ]
  },
  {
   "cell_type": "code",
   "execution_count": 112,
   "id": "85bcffce",
   "metadata": {},
   "outputs": [
    {
     "data": {
      "text/plain": [
       "(16,)"
      ]
     },
     "execution_count": 112,
     "metadata": {},
     "output_type": "execute_result"
    }
   ],
   "source": [
    "z.shape"
   ]
  },
  {
   "cell_type": "markdown",
   "id": "dedd2503",
   "metadata": {},
   "source": [
    "reshape() will reshape the array in such a way that size of the array or total number of elements in the array would remain same. Let's say there is an array with 12 elements then there could be multiple combinations that would end up in giving 12 elements like (4, 3), (3, 4), (12, 1), (1, 12), (2, 6), (6, 2), (3, 4, 1), (12, 1, 1), etc.\n",
    "\n",
    "There is one more functionality which is available. Consider the above example. We can use any negative number as one of the values of the parameters of the shape like (-1, 4), (6, -343), etc. Here, -1 would be 3 in first case and -343 would be 2 in second case. Program needs to return an array with total number of elements as 12 and one of the values of the shape parameters we're giving so accordingly it'll calculate the value corresponding to any negative number and assign the same. The negative number is representing unknown dimension. There could be only one negative value at one point in time."
   ]
  },
  {
   "cell_type": "code",
   "execution_count": 113,
   "id": "3d563c52",
   "metadata": {},
   "outputs": [
    {
     "data": {
      "text/plain": [
       "array([[ 0],\n",
       "       [ 1],\n",
       "       [ 2],\n",
       "       [ 3],\n",
       "       [ 4],\n",
       "       [ 5],\n",
       "       [ 6],\n",
       "       [ 7],\n",
       "       [ 8],\n",
       "       [ 9],\n",
       "       [10],\n",
       "       [11],\n",
       "       [12],\n",
       "       [13],\n",
       "       [14],\n",
       "       [15]])"
      ]
     },
     "execution_count": 113,
     "metadata": {},
     "output_type": "execute_result"
    }
   ],
   "source": [
    "z.reshape(16, 1)"
   ]
  },
  {
   "cell_type": "code",
   "execution_count": 114,
   "id": "b3c5ba57",
   "metadata": {},
   "outputs": [
    {
     "data": {
      "text/plain": [
       "array([[ 0,  1],\n",
       "       [ 2,  3],\n",
       "       [ 4,  5],\n",
       "       [ 6,  7],\n",
       "       [ 8,  9],\n",
       "       [10, 11],\n",
       "       [12, 13],\n",
       "       [14, 15]])"
      ]
     },
     "execution_count": 114,
     "metadata": {},
     "output_type": "execute_result"
    }
   ],
   "source": [
    "# since total number of elements must be 16 and we've given one of the values as 2 so another value would be 8 for sure\n",
    "z.reshape(-1, 2)"
   ]
  },
  {
   "cell_type": "code",
   "execution_count": 115,
   "id": "67510949",
   "metadata": {},
   "outputs": [
    {
     "data": {
      "text/plain": [
       "array([[ 0,  1],\n",
       "       [ 2,  3],\n",
       "       [ 4,  5],\n",
       "       [ 6,  7],\n",
       "       [ 8,  9],\n",
       "       [10, 11],\n",
       "       [12, 13],\n",
       "       [14, 15]])"
      ]
     },
     "execution_count": 115,
     "metadata": {},
     "output_type": "execute_result"
    }
   ],
   "source": [
    "z.reshape(-3456, 2)"
   ]
  },
  {
   "cell_type": "code",
   "execution_count": 52,
   "id": "fc298719",
   "metadata": {},
   "outputs": [
    {
     "data": {
      "text/plain": [
       "array([12, 60])"
      ]
     },
     "execution_count": 52,
     "metadata": {},
     "output_type": "execute_result"
    }
   ],
   "source": [
    "np.random.randint(10, 100, 2)"
   ]
  },
  {
   "cell_type": "code",
   "execution_count": 53,
   "id": "7a950101",
   "metadata": {},
   "outputs": [
    {
     "data": {
      "text/plain": [
       "array([[30, 25, 51, 45],\n",
       "       [48, 81, 30, 41],\n",
       "       [70, 20, 89, 87]])"
      ]
     },
     "execution_count": 53,
     "metadata": {},
     "output_type": "execute_result"
    }
   ],
   "source": [
    "np.random.randint(10, 100, [3, 4])"
   ]
  },
  {
   "cell_type": "code",
   "execution_count": 56,
   "id": "d7c5e53d",
   "metadata": {},
   "outputs": [
    {
     "data": {
      "text/plain": [
       "array([92, 58])"
      ]
     },
     "execution_count": 56,
     "metadata": {},
     "output_type": "execute_result"
    }
   ],
   "source": [
    "# to get the same random number, we can use\n",
    "np.random.seed(13)\n",
    "np.random.randint(10, 100, 2)"
   ]
  },
  {
   "cell_type": "markdown",
   "id": "959db9b5",
   "metadata": {},
   "source": [
    "To get the diagonal elements of any matrix we can use diag(). If the array is not in the format of square matrix then it would give the diagonal elements from the very first square matrix of maximum size that is possible.\n",
    "\n",
    "np.diag(array1, k) where array1 could be any array and k can take int value. By default k = 0 that means this function will return the array comprising of main diagonal. k = 1 means diagonal above the main diagonal. k = -1 means diagonal below the main diagonal."
   ]
  },
  {
   "cell_type": "code",
   "execution_count": 121,
   "id": "991c4182",
   "metadata": {},
   "outputs": [
    {
     "data": {
      "text/plain": [
       "array([[ 1,  2],\n",
       "       [ 6, -8],\n",
       "       [ 5,  0]])"
      ]
     },
     "execution_count": 121,
     "metadata": {},
     "output_type": "execute_result"
    }
   ],
   "source": [
    "array1 = np.array([[1, 2], [6, -8], [5, 0]])\n",
    "array1"
   ]
  },
  {
   "cell_type": "code",
   "execution_count": 122,
   "id": "2b1b6c25",
   "metadata": {},
   "outputs": [
    {
     "data": {
      "text/plain": [
       "array([ 1, -8])"
      ]
     },
     "execution_count": 122,
     "metadata": {},
     "output_type": "execute_result"
    }
   ],
   "source": [
    "np.diag(array1) # By default k = 0"
   ]
  },
  {
   "cell_type": "code",
   "execution_count": 123,
   "id": "82940f2b",
   "metadata": {},
   "outputs": [
    {
     "data": {
      "text/plain": [
       "array([2])"
      ]
     },
     "execution_count": 123,
     "metadata": {},
     "output_type": "execute_result"
    }
   ],
   "source": [
    "np.diag(array1, k = 1) # We'll get the value above the main diagonal"
   ]
  },
  {
   "cell_type": "code",
   "execution_count": 124,
   "id": "d4fa69e1",
   "metadata": {},
   "outputs": [
    {
     "data": {
      "text/plain": [
       "array([6, 0])"
      ]
     },
     "execution_count": 124,
     "metadata": {},
     "output_type": "execute_result"
    }
   ],
   "source": [
    "np.diag(array1, k = -1) # We'll get the diagonal values below the main diagonal"
   ]
  },
  {
   "cell_type": "code",
   "execution_count": 125,
   "id": "545fe393",
   "metadata": {},
   "outputs": [
    {
     "data": {
      "text/plain": [
       "array([5])"
      ]
     },
     "execution_count": 125,
     "metadata": {},
     "output_type": "execute_result"
    }
   ],
   "source": [
    "np.diag(array1, k = -2)"
   ]
  },
  {
   "cell_type": "code",
   "execution_count": 130,
   "id": "7162b55f",
   "metadata": {},
   "outputs": [
    {
     "data": {
      "text/plain": [
       "array([[ 0,  1,  2,  3,  4,  5,  6,  7],\n",
       "       [ 8,  9, 10, 11, 12, 13, 14, 15]])"
      ]
     },
     "execution_count": 130,
     "metadata": {},
     "output_type": "execute_result"
    }
   ],
   "source": [
    "x1 = np.arange(16).reshape((-1, 8))\n",
    "x1"
   ]
  },
  {
   "cell_type": "code",
   "execution_count": 131,
   "id": "6318af09",
   "metadata": {},
   "outputs": [
    {
     "data": {
      "text/plain": [
       "array([0, 9])"
      ]
     },
     "execution_count": 131,
     "metadata": {},
     "output_type": "execute_result"
    }
   ],
   "source": [
    "np.diag(x1, k = 0)"
   ]
  },
  {
   "cell_type": "code",
   "execution_count": 132,
   "id": "8497e975",
   "metadata": {},
   "outputs": [
    {
     "data": {
      "text/plain": [
       "array([ 1, 10])"
      ]
     },
     "execution_count": 132,
     "metadata": {},
     "output_type": "execute_result"
    }
   ],
   "source": [
    "np.diag(x1, k = 1)"
   ]
  },
  {
   "cell_type": "code",
   "execution_count": 133,
   "id": "b85e8618",
   "metadata": {},
   "outputs": [
    {
     "data": {
      "text/plain": [
       "array([8])"
      ]
     },
     "execution_count": 133,
     "metadata": {},
     "output_type": "execute_result"
    }
   ],
   "source": [
    "np.diag(x1, k = -1)"
   ]
  },
  {
   "cell_type": "code",
   "execution_count": 135,
   "id": "8ba6c594",
   "metadata": {},
   "outputs": [
    {
     "data": {
      "text/plain": [
       "array([ 6, 15])"
      ]
     },
     "execution_count": 135,
     "metadata": {},
     "output_type": "execute_result"
    }
   ],
   "source": [
    "np.diag(x1, k = 6)"
   ]
  },
  {
   "cell_type": "code",
   "execution_count": 136,
   "id": "16a8557d",
   "metadata": {},
   "outputs": [
    {
     "data": {
      "text/plain": [
       "array([7])"
      ]
     },
     "execution_count": 136,
     "metadata": {},
     "output_type": "execute_result"
    }
   ],
   "source": [
    "np.diag(x1, k = 7)"
   ]
  },
  {
   "cell_type": "code",
   "execution_count": 137,
   "id": "785f09ae",
   "metadata": {},
   "outputs": [
    {
     "data": {
      "text/plain": [
       "array([], dtype=int32)"
      ]
     },
     "execution_count": 137,
     "metadata": {},
     "output_type": "execute_result"
    }
   ],
   "source": [
    "np.diag(x1, k = -2) # Since there is no element"
   ]
  },
  {
   "cell_type": "code",
   "execution_count": 140,
   "id": "3d50280b",
   "metadata": {},
   "outputs": [
    {
     "data": {
      "text/plain": [
       "array([[ 1,  2],\n",
       "       [ 6, -8],\n",
       "       [ 5,  0]])"
      ]
     },
     "execution_count": 140,
     "metadata": {},
     "output_type": "execute_result"
    }
   ],
   "source": [
    "array1"
   ]
  },
  {
   "cell_type": "code",
   "execution_count": 139,
   "id": "756ac036",
   "metadata": {},
   "outputs": [
    {
     "data": {
      "text/plain": [
       "array([[ 1,  0],\n",
       "       [ 0, -8]])"
      ]
     },
     "execution_count": 139,
     "metadata": {},
     "output_type": "execute_result"
    }
   ],
   "source": [
    "# It'll create a square matrix using the diagonal elements and place them on the doagonal and rest of the elements would be \n",
    "# zero in the square matrix\n",
    "np.diag(np.diag(array1))"
   ]
  },
  {
   "cell_type": "code",
   "execution_count": 143,
   "id": "8dab038d",
   "metadata": {},
   "outputs": [
    {
     "data": {
      "text/plain": [
       "array([[ 0,  0,  0,  0],\n",
       "       [ 0,  5,  0,  0],\n",
       "       [ 0,  0, 10,  0],\n",
       "       [ 0,  0,  0, 15]])"
      ]
     },
     "execution_count": 143,
     "metadata": {},
     "output_type": "execute_result"
    }
   ],
   "source": [
    "# Here, we are creating an array of size 16 and reshaping it to (4, 4). Finding the diagonal elements and using them creating \n",
    "# a square matrix by placing these diagonal elements at the diagonal respectively and put zeros at the rest of the places.\n",
    "np.diag(np.diag(np.arange(16).reshape(4, 4)))"
   ]
  },
  {
   "cell_type": "code",
   "execution_count": 4,
   "id": "7fbe0131",
   "metadata": {},
   "outputs": [
    {
     "data": {
      "text/plain": [
       "array([[1, 0, 0, 0, 0, 0],\n",
       "       [0, list([2, 4]), 0, 0, 0, 0],\n",
       "       [0, 0, 3, 0, 0, 0],\n",
       "       [0, 0, 0, 4, 0, 0],\n",
       "       [0, 0, 0, 0, 5, 0],\n",
       "       [0, 0, 0, 0, 0, 6]], dtype=object)"
      ]
     },
     "execution_count": 4,
     "metadata": {},
     "output_type": "execute_result"
    }
   ],
   "source": [
    "# It'll put all the elelements in one container and put them in diagonal and place 0 at rest of the places\n",
    "np.diagflat([[1, [2, 4], 3], [4, 5, 6]])"
   ]
  },
  {
   "cell_type": "code",
   "execution_count": 5,
   "id": "02382ae3",
   "metadata": {},
   "outputs": [
    {
     "data": {
      "text/plain": [
       "array([[1., 0., 0., 0., 0.],\n",
       "       [1., 1., 0., 0., 0.],\n",
       "       [1., 1., 1., 0., 0.],\n",
       "       [1., 1., 1., 1., 0.]])"
      ]
     },
     "execution_count": 5,
     "metadata": {},
     "output_type": "execute_result"
    }
   ],
   "source": [
    "# np.tri(num of rows, num of columns, value of k). It'll consider the value of k and specify the diagonal. All the values below\n",
    "# that diagonal would be 1 and rest of the values would be zero.\n",
    "np.tri(4,5, 0)"
   ]
  },
  {
   "cell_type": "code",
   "execution_count": 6,
   "id": "98789922",
   "metadata": {},
   "outputs": [
    {
     "data": {
      "text/plain": [
       "array([[1, 2, 3],\n",
       "       [4, 5, 6],\n",
       "       [7, 8, 9]])"
      ]
     },
     "execution_count": 6,
     "metadata": {},
     "output_type": "execute_result"
    }
   ],
   "source": [
    "z = np.array(([1, 2, 3], [4, 5, 6], [7, 8, 9]))\n",
    "z"
   ]
  },
  {
   "cell_type": "code",
   "execution_count": 7,
   "id": "d4148842",
   "metadata": {},
   "outputs": [
    {
     "data": {
      "text/plain": [
       "array([[1, 0, 0],\n",
       "       [4, 5, 0],\n",
       "       [7, 8, 9]])"
      ]
     },
     "execution_count": 7,
     "metadata": {},
     "output_type": "execute_result"
    }
   ],
   "source": [
    "# To get the lower traingle of an array. Here, all the elements would be zero above the main diagonal.\n",
    "np.tril(z)"
   ]
  },
  {
   "cell_type": "code",
   "execution_count": 8,
   "id": "bc69cf1d",
   "metadata": {},
   "outputs": [
    {
     "data": {
      "text/plain": [
       "array([[1, 2, 3],\n",
       "       [0, 5, 6],\n",
       "       [0, 0, 9]])"
      ]
     },
     "execution_count": 8,
     "metadata": {},
     "output_type": "execute_result"
    }
   ],
   "source": [
    "# To get the upper traingle of an array. Here, all the elements would be zero below the main diagonal.\n",
    "np.triu(z)"
   ]
  },
  {
   "cell_type": "code",
   "execution_count": 9,
   "id": "a8ab0f16",
   "metadata": {},
   "outputs": [
    {
     "data": {
      "text/plain": [
       "array([[1, 2, 0],\n",
       "       [4, 5, 6],\n",
       "       [7, 8, 9]])"
      ]
     },
     "execution_count": 9,
     "metadata": {},
     "output_type": "execute_result"
    }
   ],
   "source": [
    "# By default k = 0. If we choose k = 1 then all the elements above the diagonal corresponding to k = 1 would be 0.\n",
    "np.tril(z, k = 1)"
   ]
  },
  {
   "cell_type": "code",
   "execution_count": 10,
   "id": "8a9bd170",
   "metadata": {},
   "outputs": [
    {
     "data": {
      "text/plain": [
       "array([[0, 2, 3],\n",
       "       [0, 0, 6],\n",
       "       [0, 0, 0]])"
      ]
     },
     "execution_count": 10,
     "metadata": {},
     "output_type": "execute_result"
    }
   ],
   "source": [
    "# By default k = 0. If we choose k = 1 then all the elements below the diagonal corresponding to k = 1 would be 0.\n",
    "np.triu(z, k = 1)"
   ]
  },
  {
   "cell_type": "code",
   "execution_count": 11,
   "id": "ee00805e",
   "metadata": {},
   "outputs": [
    {
     "data": {
      "text/plain": [
       "array([[0.85637223, 0.83912446, 0.13084986, 0.92130759],\n",
       "       [0.86542536, 0.26089776, 0.63672202, 0.80536529],\n",
       "       [0.45753493, 0.90920637, 0.95575465, 0.85147466]])"
      ]
     },
     "execution_count": 11,
     "metadata": {},
     "output_type": "execute_result"
    }
   ],
   "source": [
    "# We need to mention the shape of the array.\n",
    "# rand would generate the random numbers b/w 0 and 1 which'll follow uniform distribution.\n",
    "np.random.rand(3, 4)"
   ]
  },
  {
   "cell_type": "code",
   "execution_count": 12,
   "id": "fd237af6",
   "metadata": {},
   "outputs": [
    {
     "data": {
      "text/plain": [
       "array([[-1.67958277, -0.72698384, -0.72040569,  1.08835825],\n",
       "       [-0.31750514, -0.88392875,  0.19371171,  0.0569111 ],\n",
       "       [ 1.46560011,  0.66519182,  0.81840632, -1.28889098]])"
      ]
     },
     "execution_count": 12,
     "metadata": {},
     "output_type": "execute_result"
    }
   ],
   "source": [
    "# We need to mention the shape of the array.\n",
    "# randn would generate a sample from standard normal distribution where mean = 0 and std = 1\n",
    "np.random.randn(3, 4)"
   ]
  },
  {
   "cell_type": "code",
   "execution_count": 14,
   "id": "f94aaaf2",
   "metadata": {},
   "outputs": [
    {
     "data": {
      "text/plain": [
       "6"
      ]
     },
     "execution_count": 14,
     "metadata": {},
     "output_type": "execute_result"
    }
   ],
   "source": [
    "# We need to mention the range of numbers within which we want to see any random number.\n",
    "# randint would generate random integer within the specified range\n",
    "np.random.randint(3, 9)"
   ]
  },
  {
   "cell_type": "code",
   "execution_count": 15,
   "id": "0bdf0229",
   "metadata": {},
   "outputs": [
    {
     "data": {
      "text/plain": [
       "array([5, 6, 8, 4])"
      ]
     },
     "execution_count": 15,
     "metadata": {},
     "output_type": "execute_result"
    }
   ],
   "source": [
    "# By default we'll receive single integer as the output. If we would like to generate multiple integers within the specified \n",
    "# range then we need to mention the number of integers we like to see in the output\n",
    "np.random.randint(3, 9, 4)"
   ]
  },
  {
   "cell_type": "code",
   "execution_count": 16,
   "id": "791b1cb3",
   "metadata": {},
   "outputs": [
    {
     "data": {
      "text/plain": [
       "array([[3, 8, 5, 7, 8],\n",
       "       [3, 4, 7, 5, 6],\n",
       "       [5, 5, 6, 3, 3],\n",
       "       [4, 3, 5, 8, 5]])"
      ]
     },
     "execution_count": 16,
     "metadata": {},
     "output_type": "execute_result"
    }
   ],
   "source": [
    "# Here, we've provided the shape of the array i.e. (4, 5) and all the elements of this array would be an integer that would\n",
    "# lie within the range 3 to 9. Upper bound of the range won't be included i.e. 9 won't be included.\n",
    "np.random.randint(3, 9, (4, 5))"
   ]
  },
  {
   "cell_type": "code",
   "execution_count": 5,
   "id": "6bf41ce8",
   "metadata": {},
   "outputs": [
    {
     "data": {
      "text/plain": [
       "array([[4, 4, 4, 7, 5],\n",
       "       [7, 7, 4, 3, 5],\n",
       "       [5, 7, 8, 3, 7],\n",
       "       [6, 3, 4, 7, 3]])"
      ]
     },
     "execution_count": 5,
     "metadata": {},
     "output_type": "execute_result"
    }
   ],
   "source": [
    "# To use the randint function, we're using a very big expression. In order to squeeze it, we can use\n",
    "from numpy.random import randint as ri\n",
    "ri(3, 9, (4, 5))"
   ]
  },
  {
   "cell_type": "code",
   "execution_count": 21,
   "id": "7ad4a75c",
   "metadata": {},
   "outputs": [
    {
     "data": {
      "text/plain": [
       "array([[4, 6, 7, 7, 7],\n",
       "       [3, 4, 4, 5, 7],\n",
       "       [3, 7, 7, 8, 8],\n",
       "       [5, 6, 6, 7, 8]])"
      ]
     },
     "execution_count": 21,
     "metadata": {},
     "output_type": "execute_result"
    }
   ],
   "source": [
    "np.sort(ri(3, 9, (4, 5))) # Here, rows are sorted in ascending order by default"
   ]
  },
  {
   "cell_type": "code",
   "execution_count": 26,
   "id": "20f25c96",
   "metadata": {},
   "outputs": [
    {
     "data": {
      "text/plain": [
       "array([[5, 6, 6, 7, 8],\n",
       "       [4, 4, 6, 7, 7],\n",
       "       [3, 5, 7, 8, 8],\n",
       "       [3, 4, 8, 8, 8]])"
      ]
     },
     "execution_count": 26,
     "metadata": {},
     "output_type": "execute_result"
    }
   ],
   "source": [
    "# To control the sorting row wise or column wise, we'll use axis parameter under np.sort\n",
    "# axis = 1 means data movement in sorting would be done column wise\n",
    "# axis = 0 means data movement in sorting would be done row wise\n",
    "np.sort(ri(3, 9, (4, 5)), axis = 1)"
   ]
  },
  {
   "cell_type": "code",
   "execution_count": 28,
   "id": "d6190f2e",
   "metadata": {},
   "outputs": [
    {
     "data": {
      "text/plain": [
       "array([[21, 27, 38, 81, 15, 69],\n",
       "       [78, 86, 66, 91, 69,  3],\n",
       "       [70, 50, 30, 37, 57, 60],\n",
       "       [73, 19, 49, 95, 97, 94],\n",
       "       [20, 78, 74, 19, 78, 20]])"
      ]
     },
     "execution_count": 28,
     "metadata": {},
     "output_type": "execute_result"
    }
   ],
   "source": [
    "z1 = ri(1, 100, (5, 6))\n",
    "z1"
   ]
  },
  {
   "cell_type": "code",
   "execution_count": 29,
   "id": "9086c053",
   "metadata": {},
   "outputs": [
    {
     "data": {
      "text/plain": [
       "97"
      ]
     },
     "execution_count": 29,
     "metadata": {},
     "output_type": "execute_result"
    }
   ],
   "source": [
    "np.max(z1)"
   ]
  },
  {
   "cell_type": "code",
   "execution_count": 30,
   "id": "556db6ed",
   "metadata": {},
   "outputs": [
    {
     "data": {
      "text/plain": [
       "3"
      ]
     },
     "execution_count": 30,
     "metadata": {},
     "output_type": "execute_result"
    }
   ],
   "source": [
    "np.min(z1)"
   ]
  },
  {
   "cell_type": "code",
   "execution_count": 31,
   "id": "6f7abebf",
   "metadata": {},
   "outputs": [
    {
     "data": {
      "text/plain": [
       "22"
      ]
     },
     "execution_count": 31,
     "metadata": {},
     "output_type": "execute_result"
    }
   ],
   "source": [
    "# It'll return the index of maximum value in entire array\n",
    "z1.argmax()"
   ]
  },
  {
   "cell_type": "code",
   "execution_count": 32,
   "id": "4bf4a3e5",
   "metadata": {},
   "outputs": [
    {
     "data": {
      "text/plain": [
       "array([3, 3, 0, 4, 1], dtype=int64)"
      ]
     },
     "execution_count": 32,
     "metadata": {},
     "output_type": "execute_result"
    }
   ],
   "source": [
    "# Here, meaning of axis is opposite. We consider axis = 0 for rows but here we're considering the same for columns.\n",
    "# axis = 1 means index of maximum value in a row\n",
    "z1.argmax(axis = 1)"
   ]
  },
  {
   "cell_type": "code",
   "execution_count": 33,
   "id": "01676601",
   "metadata": {},
   "outputs": [
    {
     "data": {
      "text/plain": [
       "array([1, 1, 4, 3, 3, 3], dtype=int64)"
      ]
     },
     "execution_count": 33,
     "metadata": {},
     "output_type": "execute_result"
    }
   ],
   "source": [
    "# axis = 0 means index of maximum value in a column\n",
    "z1.argmax(axis = 0)"
   ]
  },
  {
   "cell_type": "code",
   "execution_count": 53,
   "id": "208d9dba",
   "metadata": {},
   "outputs": [
    {
     "data": {
      "text/plain": [
       "array([ 2,  4,  6,  8, 10, 12, 14, 16, 18])"
      ]
     },
     "execution_count": 53,
     "metadata": {},
     "output_type": "execute_result"
    }
   ],
   "source": [
    "x = np.array(range(2, 20, 2))\n",
    "x"
   ]
  },
  {
   "cell_type": "code",
   "execution_count": 54,
   "id": "b1c48941",
   "metadata": {},
   "outputs": [
    {
     "data": {
      "text/plain": [
       "10"
      ]
     },
     "execution_count": 54,
     "metadata": {},
     "output_type": "execute_result"
    }
   ],
   "source": [
    "# To get the element at 5th index\n",
    "x[4]"
   ]
  },
  {
   "cell_type": "code",
   "execution_count": 55,
   "id": "e2d5c60f",
   "metadata": {},
   "outputs": [
    {
     "data": {
      "text/plain": [
       "array([18, 16, 14, 12, 10,  8,  6,  4,  2])"
      ]
     },
     "execution_count": 55,
     "metadata": {},
     "output_type": "execute_result"
    }
   ],
   "source": [
    "# To get the elements of an array in reverse order\n",
    "x[-1::-1]"
   ]
  },
  {
   "cell_type": "code",
   "execution_count": 58,
   "id": "638e418f",
   "metadata": {},
   "outputs": [
    {
     "data": {
      "text/plain": [
       "array([18, 16, 14, 12, 10])"
      ]
     },
     "execution_count": 58,
     "metadata": {},
     "output_type": "execute_result"
    }
   ],
   "source": [
    "# To get the last 5 elements\n",
    "x[-1:-6:-1]"
   ]
  },
  {
   "cell_type": "code",
   "execution_count": 61,
   "id": "9375a9db",
   "metadata": {},
   "outputs": [
    {
     "data": {
      "text/plain": [
       "array([ 8, 14, 18])"
      ]
     },
     "execution_count": 61,
     "metadata": {},
     "output_type": "execute_result"
    }
   ],
   "source": [
    "# To get the 3rd, 6th & 8th element of an array\n",
    "x[[3, 6, 8]]"
   ]
  },
  {
   "cell_type": "code",
   "execution_count": 32,
   "id": "5773977b",
   "metadata": {},
   "outputs": [
    {
     "data": {
      "text/plain": [
       "array([[[40, 67, 89,  2, 19, 62],\n",
       "        [44, 95, 75, 13, 94, 28],\n",
       "        [23, 34, 86, 90, 40, 82],\n",
       "        [50, 49, 96, 41, 40, 72],\n",
       "        [46, 17, 91,  2, 13, 59]],\n",
       "\n",
       "       [[16, 42, 72, 53, 37, 61],\n",
       "        [59, 37, 61, 65, 19, 71],\n",
       "        [57, 10, 13,  6, 72, 32],\n",
       "        [68, 99, 70, 54, 26, 73],\n",
       "        [64, 18, 46, 58, 65, 68]],\n",
       "\n",
       "       [[26, 99, 27, 58, 28, 51],\n",
       "        [19, 76, 72, 11, 76, 90],\n",
       "        [53, 56,  5, 24, 89, 69],\n",
       "        [94, 83, 76, 24, 76, 21],\n",
       "        [80, 37, 53, 31, 12, 63]]])"
      ]
     },
     "execution_count": 32,
     "metadata": {},
     "output_type": "execute_result"
    }
   ],
   "source": [
    "mat = ri(1, 100, (3, 5, 6))\n",
    "mat"
   ]
  },
  {
   "cell_type": "code",
   "execution_count": 33,
   "id": "20036a35",
   "metadata": {},
   "outputs": [
    {
     "data": {
      "text/plain": [
       "array([67, 95, 34, 49, 17])"
      ]
     },
     "execution_count": 33,
     "metadata": {},
     "output_type": "execute_result"
    }
   ],
   "source": [
    "# To get the 2nd column from very first matrix\n",
    "mat[0][:, 1]"
   ]
  },
  {
   "cell_type": "code",
   "execution_count": 41,
   "id": "51db1841",
   "metadata": {},
   "outputs": [
    {
     "data": {
      "text/plain": [
       "array([[67, 95, 34, 49, 17],\n",
       "       [42, 37, 10, 99, 18],\n",
       "       [99, 76, 56, 83, 37]])"
      ]
     },
     "execution_count": 41,
     "metadata": {},
     "output_type": "execute_result"
    }
   ],
   "source": [
    "# To get the 2nd column from every matrix\n",
    "mat[:, :, 1]"
   ]
  },
  {
   "cell_type": "code",
   "execution_count": 42,
   "id": "c4904ea1",
   "metadata": {},
   "outputs": [
    {
     "data": {
      "text/plain": [
       "array([[[40, 67, 89,  2, 19, 62],\n",
       "        [44, 95, 75, 13, 94, 28]],\n",
       "\n",
       "       [[16, 42, 72, 53, 37, 61],\n",
       "        [59, 37, 61, 65, 19, 71]],\n",
       "\n",
       "       [[26, 99, 27, 58, 28, 51],\n",
       "        [19, 76, 72, 11, 76, 90]]])"
      ]
     },
     "execution_count": 42,
     "metadata": {},
     "output_type": "execute_result"
    }
   ],
   "source": [
    "# To get the first 2 rows from all the matrices together\n",
    "mat[:, 0:2, :]"
   ]
  },
  {
   "cell_type": "code",
   "execution_count": 34,
   "id": "83331ed6",
   "metadata": {},
   "outputs": [
    {
     "data": {
      "text/plain": [
       "array([[[40, 67, 89,  2, 19, 62],\n",
       "        [44, 95, 75, 13, 94, 28]],\n",
       "\n",
       "       [[16, 42, 72, 53, 37, 61],\n",
       "        [59, 37, 61, 65, 19, 71]],\n",
       "\n",
       "       [[26, 99, 27, 58, 28, 51],\n",
       "        [19, 76, 72, 11, 76, 90]]])"
      ]
     },
     "execution_count": 34,
     "metadata": {},
     "output_type": "execute_result"
    }
   ],
   "source": [
    "# Another wayout to do the same thing\n",
    "mat[:, 0:2]"
   ]
  },
  {
   "cell_type": "code",
   "execution_count": 38,
   "id": "7cc6e299",
   "metadata": {},
   "outputs": [
    {
     "data": {
      "text/plain": [
       "array([[40, 67],\n",
       "       [44, 95],\n",
       "       [23, 34],\n",
       "       [50, 49],\n",
       "       [46, 17]])"
      ]
     },
     "execution_count": 38,
     "metadata": {},
     "output_type": "execute_result"
    }
   ],
   "source": [
    "mat[0][:, 0:2]"
   ]
  },
  {
   "cell_type": "code",
   "execution_count": 40,
   "id": "8f56cfb1",
   "metadata": {},
   "outputs": [
    {
     "data": {
      "text/plain": [
       "array([[[40, 67],\n",
       "        [44, 95],\n",
       "        [23, 34],\n",
       "        [50, 49],\n",
       "        [46, 17]],\n",
       "\n",
       "       [[16, 42],\n",
       "        [59, 37],\n",
       "        [57, 10],\n",
       "        [68, 99],\n",
       "        [64, 18]],\n",
       "\n",
       "       [[26, 99],\n",
       "        [19, 76],\n",
       "        [53, 56],\n",
       "        [94, 83],\n",
       "        [80, 37]]])"
      ]
     },
     "execution_count": 40,
     "metadata": {},
     "output_type": "execute_result"
    }
   ],
   "source": [
    "# To extract the first 2 columns of each matrix\n",
    "mat[:, :, 0:2]"
   ]
  },
  {
   "cell_type": "code",
   "execution_count": 43,
   "id": "6c5a3600",
   "metadata": {},
   "outputs": [
    {
     "data": {
      "text/plain": [
       "array([[62, 28, 82, 72, 59],\n",
       "       [61, 71, 32, 73, 68],\n",
       "       [51, 90, 69, 21, 63]])"
      ]
     },
     "execution_count": 43,
     "metadata": {},
     "output_type": "execute_result"
    }
   ],
   "source": [
    "# To get the last column of all the matrices\n",
    "mat[:, :, -1]"
   ]
  },
  {
   "cell_type": "code",
   "execution_count": 47,
   "id": "d68437a4",
   "metadata": {},
   "outputs": [
    {
     "data": {
      "text/plain": [
       "array([[[[2682, 2982, 1136, 1500],\n",
       "         [1973, 2593, 2223, 1156],\n",
       "         [2481, 2489, 1832, 2063],\n",
       "         [2638, 1676, 1208, 1942],\n",
       "         [2402, 1434, 1323, 1901]],\n",
       "\n",
       "        [[1889, 1555, 2406, 1994],\n",
       "         [1438, 1820, 2375, 2596],\n",
       "         [2049, 1269, 2707, 1814],\n",
       "         [2480, 2267, 2692, 1670],\n",
       "         [2662, 2819, 1156, 1226]],\n",
       "\n",
       "        [[2171, 2801, 2271, 2016],\n",
       "         [1098, 1784, 2038, 2584],\n",
       "         [2067, 1130, 1150, 2108],\n",
       "         [1688, 1369, 2845, 1270],\n",
       "         [2668, 1120, 1947, 2942]]],\n",
       "\n",
       "\n",
       "       [[[2677, 1416, 1741, 1236],\n",
       "         [1447, 2187, 1739, 2459],\n",
       "         [2379, 1195, 2892, 2624],\n",
       "         [1732, 2736, 1097, 2951],\n",
       "         [1572, 1186, 1197, 2339]],\n",
       "\n",
       "        [[2436, 2328, 2939, 2693],\n",
       "         [1083, 2877, 2397, 2187],\n",
       "         [1162, 1007, 1335, 2907],\n",
       "         [1963, 1909, 2509, 1920],\n",
       "         [2642, 1563, 1765, 2697]],\n",
       "\n",
       "        [[2277, 1436, 2824, 1030],\n",
       "         [1520, 2202, 1584, 1553],\n",
       "         [1639, 1511, 2618, 2980],\n",
       "         [1757, 1334, 1894, 2068],\n",
       "         [2151, 1093, 1046, 1947]]]])"
      ]
     },
     "execution_count": 47,
     "metadata": {},
     "output_type": "execute_result"
    }
   ],
   "source": [
    "mat1 = np.array(np.random.randint(1000, 3000, (2, 3, 5, 4)))\n",
    "mat1"
   ]
  },
  {
   "cell_type": "code",
   "execution_count": 49,
   "id": "d37efee0",
   "metadata": {},
   "outputs": [
    {
     "data": {
      "text/plain": [
       "array([[[[2682, 2982],\n",
       "         [1973, 2593],\n",
       "         [2481, 2489],\n",
       "         [2638, 1676],\n",
       "         [2402, 1434]],\n",
       "\n",
       "        [[1889, 1555],\n",
       "         [1438, 1820],\n",
       "         [2049, 1269],\n",
       "         [2480, 2267],\n",
       "         [2662, 2819]],\n",
       "\n",
       "        [[2171, 2801],\n",
       "         [1098, 1784],\n",
       "         [2067, 1130],\n",
       "         [1688, 1369],\n",
       "         [2668, 1120]]],\n",
       "\n",
       "\n",
       "       [[[2677, 1416],\n",
       "         [1447, 2187],\n",
       "         [2379, 1195],\n",
       "         [1732, 2736],\n",
       "         [1572, 1186]],\n",
       "\n",
       "        [[2436, 2328],\n",
       "         [1083, 2877],\n",
       "         [1162, 1007],\n",
       "         [1963, 1909],\n",
       "         [2642, 1563]],\n",
       "\n",
       "        [[2277, 1436],\n",
       "         [1520, 2202],\n",
       "         [1639, 1511],\n",
       "         [1757, 1334],\n",
       "         [2151, 1093]]]])"
      ]
     },
     "execution_count": 49,
     "metadata": {},
     "output_type": "execute_result"
    }
   ],
   "source": [
    "# To get the first two columns from all these matrices\n",
    "mat1[:, :, :, 0:2]"
   ]
  },
  {
   "cell_type": "markdown",
   "id": "321e1962",
   "metadata": {},
   "source": [
    "**Remark:** To extract any elements from a ndarray, mention the name of the array. Put square brackets and then mention the indexes you want to extract as per the shape of the array like array has shape(2, 4, 5, 7, 9) that means array_name`[i1, i2, i3, i4, i5]` where i1 to i5 would let us know the element that needs to be captured from each axis like we want to extract very first column of all these matrices so syntax would be array_name`[:, :, :, :, 0]`. This can be generalized for arrays having any shape or dimension."
   ]
  },
  {
   "cell_type": "code",
   "execution_count": 46,
   "id": "9f2f0ba2",
   "metadata": {},
   "outputs": [
    {
     "data": {
      "text/plain": [
       "array([67, 89, 62, 95, 75, 94, 86, 90, 82, 96, 72, 91, 59, 72, 53, 61, 59,\n",
       "       61, 65, 71, 57, 72, 68, 99, 70, 54, 73, 64, 58, 65, 68, 99, 58, 51,\n",
       "       76, 72, 76, 90, 53, 56, 89, 69, 94, 83, 76, 76, 80, 53, 63])"
      ]
     },
     "execution_count": 46,
     "metadata": {},
     "output_type": "execute_result"
    }
   ],
   "source": [
    "mat[mat > 50]"
   ]
  },
  {
   "cell_type": "code",
   "execution_count": 6,
   "id": "b53962ed",
   "metadata": {},
   "outputs": [
    {
     "data": {
      "text/plain": [
       "array([[ 34, 171, 188, 113,  45],\n",
       "       [  1, 107, 120, 162,  74],\n",
       "       [120,  92,   6,   4,  44],\n",
       "       [128,  55,  74,  41, 189]])"
      ]
     },
     "execution_count": 6,
     "metadata": {},
     "output_type": "execute_result"
    }
   ],
   "source": [
    "mat1 = np.array(np.random.randint(1, 200, (4, 5)))\n",
    "mat1"
   ]
  },
  {
   "cell_type": "code",
   "execution_count": 7,
   "id": "a0e15c83",
   "metadata": {},
   "outputs": [
    {
     "data": {
      "text/plain": [
       "array([[ 1156, 29241, 35344, 12769,  2025],\n",
       "       [    1, 11449, 14400, 26244,  5476],\n",
       "       [14400,  8464,    36,    16,  1936],\n",
       "       [16384,  3025,  5476,  1681, 35721]])"
      ]
     },
     "execution_count": 7,
     "metadata": {},
     "output_type": "execute_result"
    }
   ],
   "source": [
    "# It's not same as matrix multiplication. It'll multiply corresponding elements with each other.\n",
    "mat1 * mat1"
   ]
  },
  {
   "cell_type": "code",
   "execution_count": 11,
   "id": "c23ae131",
   "metadata": {},
   "outputs": [
    {
     "data": {
      "text/plain": [
       "array([[ 34, 171, 188],\n",
       "       [  1, 107, 120],\n",
       "       [120,  92,   6]])"
      ]
     },
     "execution_count": 11,
     "metadata": {},
     "output_type": "execute_result"
    }
   ],
   "source": [
    "mat2 = mat1[0:3, 0:3]\n",
    "mat2"
   ]
  },
  {
   "cell_type": "code",
   "execution_count": 12,
   "id": "476146e2",
   "metadata": {},
   "outputs": [
    {
     "data": {
      "text/plain": [
       "array([[23887, 41407, 28040],\n",
       "       [14541, 22660, 13748],\n",
       "       [ 4892, 30916, 33636]])"
      ]
     },
     "execution_count": 12,
     "metadata": {},
     "output_type": "execute_result"
    }
   ],
   "source": [
    "# For actual matrix multiplication use @\n",
    "mat2@mat2"
   ]
  },
  {
   "cell_type": "code",
   "execution_count": 13,
   "id": "a4979b5d",
   "metadata": {},
   "outputs": [
    {
     "ename": "ZeroDivisionError",
     "evalue": "division by zero",
     "output_type": "error",
     "traceback": [
      "\u001b[1;31m---------------------------------------------------------------------------\u001b[0m",
      "\u001b[1;31mZeroDivisionError\u001b[0m                         Traceback (most recent call last)",
      "\u001b[1;32m<ipython-input-13-e8326a161779>\u001b[0m in \u001b[0;36m<module>\u001b[1;34m\u001b[0m\n\u001b[1;32m----> 1\u001b[1;33m \u001b[1;36m2\u001b[0m\u001b[1;33m/\u001b[0m\u001b[1;36m0\u001b[0m\u001b[1;33m\u001b[0m\u001b[1;33m\u001b[0m\u001b[0m\n\u001b[0m",
      "\u001b[1;31mZeroDivisionError\u001b[0m: division by zero"
     ]
    }
   ],
   "source": [
    "# It'll give an error in core Python\n",
    "2/0"
   ]
  },
  {
   "cell_type": "code",
   "execution_count": 14,
   "id": "62ea7a38",
   "metadata": {},
   "outputs": [
    {
     "name": "stderr",
     "output_type": "stream",
     "text": [
      "<ipython-input-14-4a20909a461e>:1: RuntimeWarning: divide by zero encountered in true_divide\n",
      "  mat1/0\n"
     ]
    },
    {
     "data": {
      "text/plain": [
       "array([[inf, inf, inf, inf, inf],\n",
       "       [inf, inf, inf, inf, inf],\n",
       "       [inf, inf, inf, inf, inf],\n",
       "       [inf, inf, inf, inf, inf]])"
      ]
     },
     "execution_count": 14,
     "metadata": {},
     "output_type": "execute_result"
    }
   ],
   "source": [
    "# In numpy, we don't get it as an error rather it'll result in inf\n",
    "mat1/0"
   ]
  }
 ],
 "metadata": {
  "kernelspec": {
   "display_name": "Python 3",
   "language": "python",
   "name": "python3"
  },
  "language_info": {
   "codemirror_mode": {
    "name": "ipython",
    "version": 3
   },
   "file_extension": ".py",
   "mimetype": "text/x-python",
   "name": "python",
   "nbconvert_exporter": "python",
   "pygments_lexer": "ipython3",
   "version": "3.8.8"
  }
 },
 "nbformat": 4,
 "nbformat_minor": 5
}
